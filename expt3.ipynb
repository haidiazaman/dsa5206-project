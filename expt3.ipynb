{
 "cells": [
  {
   "cell_type": "code",
   "execution_count": null,
   "metadata": {
    "colab": {
     "base_uri": "https://localhost:8080/"
    },
    "id": "5qyw5TGCi0R9",
    "outputId": "3f9ae3aa-c10a-46dc-8ea5-9415c3df4b30"
   },
   "outputs": [
    {
     "name": "stdout",
     "output_type": "stream",
     "text": [
      "Mounted at /content/drive\n"
     ]
    }
   ],
   "source": [
    "from google.colab import drive\n",
    "drive.mount('/content/drive')"
   ]
  },
  {
   "cell_type": "code",
   "execution_count": 1,
   "metadata": {
    "id": "7DhAp3lEixmN",
    "tags": []
   },
   "outputs": [],
   "source": [
    "import pandas as pd\n",
    "import numpy as np\n",
    "import matplotlib.pyplot as plt\n",
    "import torch\n",
    "import torch.nn as nn\n",
    "from copy import deepcopy as dc\n",
    "from sklearn.preprocessing import MinMaxScaler\n",
    "from torch.utils.data import Dataset\n",
    "from torch.utils.data import DataLoader\n",
    "import time\n",
    "import os\n",
    "from tqdm import tqdm"
   ]
  },
  {
   "cell_type": "code",
   "execution_count": 2,
   "metadata": {
    "id": "JqPHYH6AixmP",
    "tags": []
   },
   "outputs": [],
   "source": [
    "# define dataset inputs\n",
    "\n",
    "# csvPath = '/content/drive/MyDrive/uni acads/MASTERS/y1s2/dsa5206/project/data/jena_climate_2009_2016.csv'\n",
    "csvPath = '/Users/haidiazaman/Desktop/dsa5206-project/data/jena_climate_2009_2016.csv'\n",
    "\n",
    "batch_size = 512\n",
    "train_size,val_size,test_size = 0.7,0.2,0.1\n",
    "lookback = 10\n",
    "date_col_name = 'Date Time'\n",
    "value_col_names = [\n",
    "    'p (mbar)', 'T (degC)', 'Tpot (K)', 'Tdew (degC)',\n",
    "    'rh (%)', 'VPmax (mbar)', 'VPact (mbar)', 'VPdef (mbar)', 'sh (g/kg)',\n",
    "    'H2OC (mmol/mol)', 'rho (g/m**3)', 'wv (m/s)', 'max. wv (m/s)',\n",
    "    'wd (deg)'\n",
    "]\n",
    "\n",
    "target_variable = 'T (degC)'"
   ]
  },
  {
   "cell_type": "code",
   "execution_count": 3,
   "metadata": {
    "id": "jW5bpL4kixmP",
    "tags": []
   },
   "outputs": [],
   "source": [
    "# define model inputs\n",
    "\n",
    "\n",
    "input_size = 14\n",
    "hidden_size=1\n",
    "num_stacked_layers=1\n",
    "lr=0.001\n",
    "epochs = 10\n",
    "\n",
    "scheduler_factor=0.5\n",
    "scheduler_patience=3\n",
    "\n",
    "early_stopping_limit = 10\n",
    "\n",
    "device = torch.device('cuda' if torch.cuda.is_available() else 'cpu')"
   ]
  },
  {
   "cell_type": "markdown",
   "metadata": {
    "id": "Lf9b5CjI8CBq",
    "jp-MarkdownHeadingCollapsed": true,
    "tags": []
   },
   "source": [
    "# Dataset\n",
    "- preprocess dataset\n",
    "    - format into df with lookback window\n",
    "    - normalize features\n",
    "    - train val test split"
   ]
  },
  {
   "cell_type": "code",
   "execution_count": 4,
   "metadata": {
    "id": "l6oe9QwlixmR",
    "tags": []
   },
   "outputs": [],
   "source": [
    "# define dataloader class\n",
    "class TimeSeriesDataset(Dataset):\n",
    "    def __init__(self, X, y):\n",
    "        self.X = X\n",
    "        self.y = y\n",
    "\n",
    "    def __len__(self):\n",
    "        return len(self.X)\n",
    "\n",
    "    def __getitem__(self, i):\n",
    "        return self.X[i], self.y[i]\n",
    "\n",
    "\n",
    "# format df into df with lookback window\n",
    "def prepare_shifted_df(df, n_steps, date_col_name, value_col_name):\n",
    "    df = dc(df)\n",
    "    df.set_index(date_col_name, inplace=True)\n",
    "    for i in range(1, n_steps+1):\n",
    "        df[f'{value_col_name}(t-{i})'] = df[value_col_name].shift(i)\n",
    "    df.dropna(inplace=True)\n",
    "    return df\n",
    "\n",
    "\n",
    "def process_shifted_df(shifted_df,lookback):\n",
    "    # format X and y from df and scale it\n",
    "    shifted_df_as_np = shifted_df.to_numpy()\n",
    "    # print(shifted_df_as_np.shape)\n",
    "\n",
    "    # normalise the data\n",
    "    scaler = MinMaxScaler(feature_range=(-1, 1))\n",
    "    shifted_df_as_np = scaler.fit_transform(shifted_df_as_np)\n",
    "    X = shifted_df_as_np[:, 1:]\n",
    "    y = shifted_df_as_np[:, 0]\n",
    "    # print(X.shape, y.shape)\n",
    "    X = dc(np.flip(X, axis=1))\n",
    "\n",
    "    X = X.reshape(-1,lookback,1)\n",
    "    y = y.reshape(-1,1)\n",
    "    return X,y"
   ]
  },
  {
   "cell_type": "code",
   "execution_count": 7,
   "metadata": {
    "colab": {
     "base_uri": "https://localhost:8080/"
    },
    "id": "bkQ75OATixmR",
    "outputId": "9a719de3-04e2-43f9-fd7b-0f7cfe55e82d",
    "tags": []
   },
   "outputs": [
    {
     "name": "stderr",
     "output_type": "stream",
     "text": [
      "100%|██████████| 13/13 [00:02<00:00,  4.64it/s]\n"
     ]
    },
    {
     "data": {
      "text/plain": [
       "((420541, 10, 14), (420541, 1))"
      ]
     },
     "execution_count": 7,
     "metadata": {},
     "output_type": "execute_result"
    }
   ],
   "source": [
    "full_data = pd.read_csv(csvPath)\n",
    "full_data[date_col_name] = pd.to_datetime(full_data[date_col_name])\n",
    "\n",
    "value_col_name =  value_col_names[0]\n",
    "data = full_data[[date_col_name,value_col_name]]\n",
    "shifted_df = prepare_shifted_df(data, lookback, date_col_name, value_col_name)\n",
    "X,y = process_shifted_df(shifted_df,lookback)\n",
    "\n",
    "for value_col_name in tqdm(value_col_names[1:]):\n",
    "    data = full_data[[date_col_name,value_col_name]]\n",
    "    shifted_df = prepare_shifted_df(data, lookback, date_col_name, value_col_name)\n",
    "    X_,y_ = process_shifted_df(shifted_df,lookback)\n",
    "\n",
    "    X = np.concatenate((X,X_),axis=2)\n",
    "    y = np.concatenate((y,y_),axis=1)\n",
    "\n",
    "\n",
    "\n",
    "# shortlist only the target_variable for y\n",
    "y = y[:,value_col_names.index(target_variable)].reshape(-1,1)\n",
    "\n",
    "X.shape,y.shape"
   ]
  },
  {
   "cell_type": "code",
   "execution_count": 8,
   "metadata": {
    "colab": {
     "base_uri": "https://localhost:8080/"
    },
    "id": "Qhl8rLO68CBr",
    "outputId": "daabc2d2-9699-4c52-abed-13b82efc64a1",
    "tags": []
   },
   "outputs": [
    {
     "name": "stdout",
     "output_type": "stream",
     "text": [
      "(294378, 10, 14) (84108, 10, 14) (42055, 10, 14)\n",
      "(294378, 1) (84108, 1) (42055, 1)\n",
      "torch.Size([294378, 10, 14]) torch.Size([84108, 10, 14]) torch.Size([42055, 10, 14])\n",
      "torch.Size([294378, 1]) torch.Size([84108, 1]) torch.Size([42055, 1])\n"
     ]
    }
   ],
   "source": [
    "# train test split\n",
    "X_train = X[:int(len(X) * train_size)]\n",
    "X_val = X[int(len(X) * train_size):int(len(X) * train_size)+int(len(X) * val_size)]\n",
    "X_test = X[int(len(X) * train_size)+int(len(X) * val_size):]\n",
    "print(X_train.shape, X_val.shape, X_test.shape)\n",
    "y_train = y[:int(len(y) * train_size)]\n",
    "y_val = y[int(len(y) * train_size):int(len(y) * train_size)+int(len(y) * val_size)]\n",
    "y_test = y[int(len(y) * train_size)+int(len(y) * val_size):]\n",
    "print(y_train.shape, y_val.shape, y_test.shape)\n",
    "\n",
    "# convert to torch tensor\n",
    "X_train = torch.tensor(X_train).float()\n",
    "X_val = torch.tensor(X_val).float()\n",
    "X_test = torch.tensor(X_test).float()\n",
    "print(X_train.shape, X_val.shape, X_test.shape)\n",
    "y_train = torch.tensor(y_train).float()\n",
    "y_val = torch.tensor(y_val).float()\n",
    "y_test = torch.tensor(y_test).float()\n",
    "print(y_train.shape, y_val.shape, y_test.shape)"
   ]
  },
  {
   "cell_type": "code",
   "execution_count": 9,
   "metadata": {
    "id": "Ih03oqP6ixmS",
    "tags": []
   },
   "outputs": [],
   "source": [
    "train_dataset = TimeSeriesDataset(X_train, y_train)\n",
    "val_dataset = TimeSeriesDataset(X_val, y_val)\n",
    "test_dataset = TimeSeriesDataset(X_test, y_test)\n",
    "\n",
    "train_loader = DataLoader(train_dataset, batch_size=batch_size, shuffle=False, drop_last=True) # set all shuffle=False since its sequential data\n",
    "val_loader = DataLoader(val_dataset, batch_size=batch_size, shuffle=False, drop_last=True)\n",
    "test_loader = DataLoader(test_dataset, batch_size=batch_size, shuffle=False, drop_last=True)"
   ]
  },
  {
   "cell_type": "code",
   "execution_count": 10,
   "metadata": {
    "colab": {
     "base_uri": "https://localhost:8080/"
    },
    "id": "BzqfMY_uixmS",
    "outputId": "f356da3f-c1a2-4995-be60-7894caf6c801",
    "tags": []
   },
   "outputs": [
    {
     "name": "stdout",
     "output_type": "stream",
     "text": [
      "torch.Size([512, 10, 14]) torch.Size([512, 1])\n"
     ]
    }
   ],
   "source": [
    "# print to check\n",
    "for _, batch in enumerate(train_loader):\n",
    "    x_batch, y_batch = batch\n",
    "    print(x_batch.shape, y_batch.shape)\n",
    "    break"
   ]
  },
  {
   "cell_type": "markdown",
   "metadata": {
    "id": "uL5PmQeKixmS",
    "jp-MarkdownHeadingCollapsed": true,
    "tags": []
   },
   "source": [
    "# Dimensionality reduction - Nonlinear Autoencoder 1 - simple FCN autoencoder"
   ]
  },
  {
   "cell_type": "code",
   "execution_count": null,
   "metadata": {
    "colab": {
     "base_uri": "https://localhost:8080/"
    },
    "id": "niNzMMbyixmS",
    "outputId": "d908bc73-3251-47ca-9cd5-2af68d41d4b2",
    "tags": []
   },
   "outputs": [
    {
     "name": "stdout",
     "output_type": "stream",
     "text": [
      "torch.Size([512, 10, 14])\n",
      "Output shape: torch.Size([512, 10, 14])\n"
     ]
    }
   ],
   "source": [
    "# define autoencoder model\n",
    "\n",
    "class Autoencoder(nn.Module):\n",
    "    def __init__(self, input_features, lookback, hidden_size):\n",
    "        super(Autoencoder, self).__init__()\n",
    "        self.input_features = input_features\n",
    "        self.lookback = lookback\n",
    "        self.encoder = nn.Sequential(\n",
    "            nn.Linear(input_features*lookback, 64),\n",
    "            nn.ReLU(),\n",
    "            nn.Linear(64, hidden_size),\n",
    "            nn.ReLU()\n",
    "        )\n",
    "        self.decoder = nn.Sequential(\n",
    "            nn.Linear(hidden_size, 64),\n",
    "            nn.ReLU(),\n",
    "            nn.Linear(64, input_features*lookback),\n",
    "            nn.ReLU()\n",
    "        )\n",
    "\n",
    "    def forward(self, x):\n",
    "        x = x.view(x.size(0), -1)  # Flatten input tensor\n",
    "        encoded = self.encoder(x)\n",
    "        decoded = self.decoder(encoded)\n",
    "        decoded = decoded.view(x.size(0), self.lookback, self.input_features)  # Reshape back to original shape (batch, lookback, 2)\n",
    "        return decoded\n",
    "\n",
    "# Example usage:\n",
    "input_features = 14\n",
    "lookback = 10\n",
    "hidden_size = 20\n",
    "model = Autoencoder(input_features=input_features, lookback=lookback, hidden_size=hidden_size).to(device)\n",
    "\n",
    "# Forward pass\n",
    "output = model(x_batch.to(device))\n",
    "print(x_batch.shape)\n",
    "print(\"Output shape:\", output.shape)"
   ]
  },
  {
   "cell_type": "markdown",
   "metadata": {
    "id": "zU9oL655ixmT",
    "jp-MarkdownHeadingCollapsed": true,
    "tags": []
   },
   "source": [
    "## Train autoencoder"
   ]
  },
  {
   "cell_type": "code",
   "execution_count": null,
   "metadata": {
    "colab": {
     "base_uri": "https://localhost:8080/"
    },
    "collapsed": true,
    "id": "63uBtGhRixmT",
    "jupyter": {
     "outputs_hidden": true
    },
    "outputId": "c84f8485-d4b6-43f7-8c9f-2ca9bebb0c5e",
    "tags": []
   },
   "outputs": [
    {
     "name": "stdout",
     "output_type": "stream",
     "text": [
      "epoch 0\n",
      "autoencoder_model epoch 0 saved as autoencoder_model.pt\n",
      "Epoch 1/100, train loss: 0.2043, val loss: 0.1789, time_taken: 3.5\n",
      "epoch 1\n",
      "autoencoder_model epoch 1 saved as autoencoder_model.pt\n",
      "Epoch 2/100, train loss: 0.1854, val loss: 0.1767, time_taken: 3.2\n",
      "epoch 2\n",
      "autoencoder_model epoch 2 saved as autoencoder_model.pt\n",
      "Epoch 3/100, train loss: 0.1847, val loss: 0.1765, time_taken: 4.5\n",
      "epoch 3\n",
      "autoencoder_model epoch 3 saved as autoencoder_model.pt\n",
      "Epoch 4/100, train loss: 0.1847, val loss: 0.1765, time_taken: 3.4\n",
      "epoch 4\n",
      "autoencoder_model epoch 4 saved as autoencoder_model.pt\n",
      "Epoch 5/100, train loss: 0.1846, val loss: 0.1765, time_taken: 3.2\n",
      "epoch 5\n",
      "autoencoder_model epoch 5 saved as autoencoder_model.pt\n",
      "Epoch 6/100, train loss: 0.1844, val loss: 0.1761, time_taken: 3.8\n",
      "epoch 6\n",
      "autoencoder_model epoch 6 saved as autoencoder_model.pt\n",
      "Epoch 7/100, train loss: 0.1839, val loss: 0.1755, time_taken: 3.9\n",
      "epoch 7\n",
      "autoencoder_model epoch 7 saved as autoencoder_model.pt\n",
      "Epoch 8/100, train loss: 0.1836, val loss: 0.1755, time_taken: 3.4\n",
      "epoch 8\n",
      "autoencoder_model epoch 8 saved as autoencoder_model.pt\n",
      "Epoch 9/100, train loss: 0.1836, val loss: 0.1755, time_taken: 3.4\n",
      "epoch 9\n",
      "Epoch 10/100, train loss: 0.1835, val loss: 0.1758, time_taken: 4.3\n",
      "epoch 10\n",
      "Epoch 11/100, train loss: 0.1835, val loss: 0.1757, time_taken: 3.5\n",
      "epoch 11\n",
      "Epoch 12/100, train loss: 0.1836, val loss: 0.1759, time_taken: 3.2\n",
      "epoch 12\n",
      "Epoch 13/100, train loss: 0.1835, val loss: 0.1755, time_taken: 3.4\n",
      "epoch 13\n",
      "autoencoder_model epoch 13 saved as autoencoder_model.pt\n",
      "Epoch 14/100, train loss: 0.1835, val loss: 0.1754, time_taken: 4.5\n",
      "epoch 14\n",
      "Epoch 15/100, train loss: 0.1835, val loss: 0.1755, time_taken: 3.2\n",
      "epoch 15\n",
      "Epoch 16/100, train loss: 0.1835, val loss: 0.1754, time_taken: 3.4\n",
      "epoch 16\n",
      "Epoch 17/100, train loss: 0.1835, val loss: 0.1754, time_taken: 3.8\n",
      "epoch 17\n",
      "Epoch 18/100, train loss: 0.1835, val loss: 0.1754, time_taken: 3.9\n",
      "epoch 18\n",
      "autoencoder_model epoch 18 saved as autoencoder_model.pt\n",
      "Epoch 19/100, train loss: 0.1835, val loss: 0.1754, time_taken: 3.4\n",
      "epoch 19\n",
      "Epoch 20/100, train loss: 0.1835, val loss: 0.1754, time_taken: 3.3\n",
      "epoch 20\n",
      "Epoch 21/100, train loss: 0.1835, val loss: 0.1754, time_taken: 4.2\n",
      "epoch 21\n",
      "autoencoder_model epoch 21 saved as autoencoder_model.pt\n",
      "Epoch 22/100, train loss: 0.1835, val loss: 0.1754, time_taken: 3.3\n",
      "epoch 22\n",
      "autoencoder_model epoch 22 saved as autoencoder_model.pt\n",
      "Epoch 23/100, train loss: 0.1835, val loss: 0.1754, time_taken: 3.3\n",
      "epoch 23\n",
      "autoencoder_model epoch 23 saved as autoencoder_model.pt\n",
      "Epoch 24/100, train loss: 0.1835, val loss: 0.1754, time_taken: 3.6\n",
      "epoch 24\n",
      "autoencoder_model epoch 24 saved as autoencoder_model.pt\n",
      "Epoch 25/100, train loss: 0.1835, val loss: 0.1754, time_taken: 4.3\n",
      "epoch 25\n",
      "autoencoder_model epoch 25 saved as autoencoder_model.pt\n",
      "Epoch 26/100, train loss: 0.1835, val loss: 0.1754, time_taken: 3.6\n",
      "epoch 26\n",
      "autoencoder_model epoch 26 saved as autoencoder_model.pt\n",
      "Epoch 27/100, train loss: 0.1835, val loss: 0.1754, time_taken: 3.8\n",
      "epoch 27\n",
      "autoencoder_model epoch 27 saved as autoencoder_model.pt\n",
      "Epoch 28/100, train loss: 0.1835, val loss: 0.1754, time_taken: 4.3\n",
      "epoch 28\n",
      "autoencoder_model epoch 28 saved as autoencoder_model.pt\n",
      "Epoch 29/100, train loss: 0.1835, val loss: 0.1754, time_taken: 3.3\n",
      "epoch 29\n",
      "autoencoder_model epoch 29 saved as autoencoder_model.pt\n",
      "Epoch 30/100, train loss: 0.1835, val loss: 0.1754, time_taken: 3.3\n",
      "epoch 30\n",
      "autoencoder_model epoch 30 saved as autoencoder_model.pt\n",
      "Epoch 31/100, train loss: 0.1835, val loss: 0.1754, time_taken: 3.4\n",
      "epoch 31\n",
      "autoencoder_model epoch 31 saved as autoencoder_model.pt\n",
      "Epoch 32/100, train loss: 0.1835, val loss: 0.1754, time_taken: 4.4\n",
      "epoch 32\n",
      "autoencoder_model epoch 32 saved as autoencoder_model.pt\n",
      "Epoch 33/100, train loss: 0.1835, val loss: 0.1754, time_taken: 3.2\n",
      "epoch 33\n",
      "autoencoder_model epoch 33 saved as autoencoder_model.pt\n",
      "Epoch 34/100, train loss: 0.1835, val loss: 0.1754, time_taken: 3.8\n",
      "epoch 34\n",
      "autoencoder_model epoch 34 saved as autoencoder_model.pt\n",
      "Epoch 35/100, train loss: 0.1835, val loss: 0.1754, time_taken: 5.4\n",
      "epoch 35\n",
      "autoencoder_model epoch 35 saved as autoencoder_model.pt\n",
      "Epoch 36/100, train loss: 0.1835, val loss: 0.1754, time_taken: 4.0\n",
      "epoch 36\n",
      "autoencoder_model epoch 36 saved as autoencoder_model.pt\n",
      "Epoch 37/100, train loss: 0.1835, val loss: 0.1754, time_taken: 4.5\n",
      "epoch 37\n",
      "autoencoder_model epoch 37 saved as autoencoder_model.pt\n",
      "Epoch 38/100, train loss: 0.1835, val loss: 0.1754, time_taken: 7.1\n",
      "epoch 38\n",
      "autoencoder_model epoch 38 saved as autoencoder_model.pt\n",
      "Epoch 39/100, train loss: 0.1835, val loss: 0.1754, time_taken: 3.4\n",
      "epoch 39\n",
      "autoencoder_model epoch 39 saved as autoencoder_model.pt\n",
      "Epoch 40/100, train loss: 0.1835, val loss: 0.1754, time_taken: 3.4\n",
      "epoch 40\n",
      "autoencoder_model epoch 40 saved as autoencoder_model.pt\n",
      "Epoch 41/100, train loss: 0.1835, val loss: 0.1754, time_taken: 4.1\n",
      "epoch 41\n",
      "autoencoder_model epoch 41 saved as autoencoder_model.pt\n",
      "Epoch 42/100, train loss: 0.1835, val loss: 0.1754, time_taken: 3.8\n",
      "epoch 42\n",
      "autoencoder_model epoch 42 saved as autoencoder_model.pt\n",
      "Epoch 43/100, train loss: 0.1835, val loss: 0.1754, time_taken: 3.4\n",
      "epoch 43\n",
      "autoencoder_model epoch 43 saved as autoencoder_model.pt\n",
      "Epoch 44/100, train loss: 0.1835, val loss: 0.1754, time_taken: 3.2\n",
      "epoch 44\n",
      "autoencoder_model epoch 44 saved as autoencoder_model.pt\n",
      "Epoch 45/100, train loss: 0.1835, val loss: 0.1754, time_taken: 4.5\n",
      "epoch 45\n",
      "autoencoder_model epoch 45 saved as autoencoder_model.pt\n",
      "Epoch 46/100, train loss: 0.1835, val loss: 0.1754, time_taken: 3.3\n",
      "epoch 46\n",
      "autoencoder_model epoch 46 saved as autoencoder_model.pt\n",
      "Epoch 47/100, train loss: 0.1835, val loss: 0.1754, time_taken: 3.3\n",
      "epoch 47\n",
      "autoencoder_model epoch 47 saved as autoencoder_model.pt\n",
      "Epoch 48/100, train loss: 0.1835, val loss: 0.1754, time_taken: 3.5\n",
      "epoch 48\n",
      "autoencoder_model epoch 48 saved as autoencoder_model.pt\n",
      "Epoch 49/100, train loss: 0.1835, val loss: 0.1754, time_taken: 4.7\n",
      "epoch 49\n",
      "autoencoder_model epoch 49 saved as autoencoder_model.pt\n",
      "Epoch 50/100, train loss: 0.1835, val loss: 0.1754, time_taken: 3.4\n",
      "epoch 50\n",
      "autoencoder_model epoch 50 saved as autoencoder_model.pt\n",
      "Epoch 51/100, train loss: 0.1835, val loss: 0.1754, time_taken: 3.4\n",
      "epoch 51\n",
      "autoencoder_model epoch 51 saved as autoencoder_model.pt\n",
      "Epoch 52/100, train loss: 0.1835, val loss: 0.1754, time_taken: 4.3\n",
      "epoch 52\n",
      "autoencoder_model epoch 52 saved as autoencoder_model.pt\n",
      "Epoch 53/100, train loss: 0.1835, val loss: 0.1754, time_taken: 3.4\n",
      "epoch 53\n",
      "autoencoder_model epoch 53 saved as autoencoder_model.pt\n",
      "Epoch 54/100, train loss: 0.1835, val loss: 0.1754, time_taken: 3.2\n",
      "epoch 54\n",
      "autoencoder_model epoch 54 saved as autoencoder_model.pt\n",
      "Epoch 55/100, train loss: 0.1835, val loss: 0.1754, time_taken: 3.4\n",
      "epoch 55\n",
      "autoencoder_model epoch 55 saved as autoencoder_model.pt\n",
      "Epoch 56/100, train loss: 0.1835, val loss: 0.1754, time_taken: 4.5\n",
      "epoch 56\n",
      "autoencoder_model epoch 56 saved as autoencoder_model.pt\n",
      "Epoch 57/100, train loss: 0.1835, val loss: 0.1754, time_taken: 3.2\n",
      "epoch 57\n",
      "autoencoder_model epoch 57 saved as autoencoder_model.pt\n",
      "Epoch 58/100, train loss: 0.1835, val loss: 0.1754, time_taken: 3.4\n",
      "epoch 58\n",
      "autoencoder_model epoch 58 saved as autoencoder_model.pt\n",
      "Epoch 59/100, train loss: 0.1835, val loss: 0.1754, time_taken: 3.8\n",
      "epoch 59\n",
      "autoencoder_model epoch 59 saved as autoencoder_model.pt\n",
      "Epoch 60/100, train loss: 0.1835, val loss: 0.1754, time_taken: 3.8\n",
      "epoch 60\n",
      "autoencoder_model epoch 60 saved as autoencoder_model.pt\n",
      "Epoch 61/100, train loss: 0.1835, val loss: 0.1754, time_taken: 3.4\n",
      "epoch 61\n",
      "autoencoder_model epoch 61 saved as autoencoder_model.pt\n",
      "Epoch 62/100, train loss: 0.1835, val loss: 0.1754, time_taken: 3.4\n",
      "epoch 62\n",
      "autoencoder_model epoch 62 saved as autoencoder_model.pt\n",
      "Epoch 63/100, train loss: 0.1835, val loss: 0.1754, time_taken: 4.4\n",
      "epoch 63\n",
      "autoencoder_model epoch 63 saved as autoencoder_model.pt\n",
      "Epoch 64/100, train loss: 0.1835, val loss: 0.1754, time_taken: 3.2\n",
      "epoch 64\n",
      "autoencoder_model epoch 64 saved as autoencoder_model.pt\n",
      "Epoch 65/100, train loss: 0.1835, val loss: 0.1754, time_taken: 3.4\n",
      "epoch 65\n",
      "autoencoder_model epoch 65 saved as autoencoder_model.pt\n",
      "Epoch 66/100, train loss: 0.1835, val loss: 0.1754, time_taken: 3.8\n",
      "epoch 66\n",
      "autoencoder_model epoch 66 saved as autoencoder_model.pt\n",
      "Epoch 67/100, train loss: 0.1835, val loss: 0.1754, time_taken: 4.2\n",
      "epoch 67\n",
      "autoencoder_model epoch 67 saved as autoencoder_model.pt\n",
      "Epoch 68/100, train loss: 0.1835, val loss: 0.1754, time_taken: 3.3\n",
      "epoch 68\n",
      "autoencoder_model epoch 68 saved as autoencoder_model.pt\n",
      "Epoch 69/100, train loss: 0.1835, val loss: 0.1754, time_taken: 3.4\n",
      "epoch 69\n",
      "autoencoder_model epoch 69 saved as autoencoder_model.pt\n",
      "Epoch 70/100, train loss: 0.1835, val loss: 0.1754, time_taken: 4.3\n",
      "epoch 70\n",
      "Epoch 71/100, train loss: 0.1835, val loss: 0.1754, time_taken: 3.4\n",
      "epoch 71\n",
      "autoencoder_model epoch 71 saved as autoencoder_model.pt\n",
      "Epoch 72/100, train loss: 0.1835, val loss: 0.1754, time_taken: 3.4\n",
      "epoch 72\n",
      "autoencoder_model epoch 72 saved as autoencoder_model.pt\n",
      "Epoch 73/100, train loss: 0.1835, val loss: 0.1754, time_taken: 3.2\n",
      "epoch 73\n",
      "autoencoder_model epoch 73 saved as autoencoder_model.pt\n",
      "Epoch 74/100, train loss: 0.1835, val loss: 0.1754, time_taken: 4.5\n",
      "epoch 74\n",
      "autoencoder_model epoch 74 saved as autoencoder_model.pt\n",
      "Epoch 75/100, train loss: 0.1835, val loss: 0.1754, time_taken: 3.2\n",
      "epoch 75\n",
      "Epoch 76/100, train loss: 0.1835, val loss: 0.1754, time_taken: 3.4\n",
      "epoch 76\n",
      "autoencoder_model epoch 76 saved as autoencoder_model.pt\n",
      "Epoch 77/100, train loss: 0.1835, val loss: 0.1754, time_taken: 5.5\n",
      "epoch 77\n",
      "autoencoder_model epoch 77 saved as autoencoder_model.pt\n",
      "Epoch 78/100, train loss: 0.1835, val loss: 0.1754, time_taken: 3.8\n",
      "epoch 78\n",
      "autoencoder_model epoch 78 saved as autoencoder_model.pt\n",
      "Epoch 79/100, train loss: 0.1835, val loss: 0.1754, time_taken: 3.4\n",
      "epoch 79\n",
      "autoencoder_model epoch 79 saved as autoencoder_model.pt\n",
      "Epoch 80/100, train loss: 0.1835, val loss: 0.1754, time_taken: 3.4\n",
      "epoch 80\n",
      "Epoch 81/100, train loss: 0.1835, val loss: 0.1754, time_taken: 4.3\n",
      "epoch 81\n",
      "autoencoder_model epoch 81 saved as autoencoder_model.pt\n",
      "Epoch 82/100, train loss: 0.1835, val loss: 0.1754, time_taken: 3.4\n",
      "epoch 82\n",
      "autoencoder_model epoch 82 saved as autoencoder_model.pt\n",
      "Epoch 83/100, train loss: 0.1835, val loss: 0.1754, time_taken: 3.2\n",
      "epoch 83\n",
      "autoencoder_model epoch 83 saved as autoencoder_model.pt\n",
      "Epoch 84/100, train loss: 0.1835, val loss: 0.1754, time_taken: 4.2\n",
      "epoch 84\n",
      "Epoch 85/100, train loss: 0.1835, val loss: 0.1754, time_taken: 3.4\n",
      "epoch 85\n",
      "Epoch 86/100, train loss: 0.1835, val loss: 0.1754, time_taken: 3.4\n",
      "epoch 86\n",
      "autoencoder_model epoch 86 saved as autoencoder_model.pt\n",
      "Epoch 87/100, train loss: 0.1835, val loss: 0.1754, time_taken: 3.4\n",
      "epoch 87\n",
      "autoencoder_model epoch 87 saved as autoencoder_model.pt\n",
      "Epoch 88/100, train loss: 0.1835, val loss: 0.1754, time_taken: 4.5\n",
      "epoch 88\n",
      "Epoch 89/100, train loss: 0.1835, val loss: 0.1754, time_taken: 3.3\n",
      "epoch 89\n",
      "Epoch 90/100, train loss: 0.1835, val loss: 0.1754, time_taken: 3.4\n",
      "epoch 90\n",
      "Epoch 91/100, train loss: 0.1835, val loss: 0.1754, time_taken: 3.8\n",
      "epoch 91\n",
      "autoencoder_model epoch 91 saved as autoencoder_model.pt\n",
      "Epoch 92/100, train loss: 0.1835, val loss: 0.1754, time_taken: 4.0\n",
      "epoch 92\n",
      "autoencoder_model epoch 92 saved as autoencoder_model.pt\n",
      "Epoch 93/100, train loss: 0.1835, val loss: 0.1754, time_taken: 3.4\n",
      "epoch 93\n",
      "Epoch 94/100, train loss: 0.1835, val loss: 0.1754, time_taken: 3.2\n",
      "epoch 94\n",
      "autoencoder_model epoch 94 saved as autoencoder_model.pt\n",
      "Epoch 95/100, train loss: 0.1835, val loss: 0.1754, time_taken: 4.6\n",
      "epoch 95\n",
      "autoencoder_model epoch 95 saved as autoencoder_model.pt\n",
      "Epoch 96/100, train loss: 0.1835, val loss: 0.1754, time_taken: 3.3\n",
      "epoch 96\n",
      "Epoch 97/100, train loss: 0.1835, val loss: 0.1754, time_taken: 3.4\n",
      "epoch 97\n",
      "Epoch 98/100, train loss: 0.1835, val loss: 0.1754, time_taken: 3.6\n",
      "epoch 98\n",
      "autoencoder_model epoch 98 saved as autoencoder_model.pt\n",
      "Epoch 99/100, train loss: 0.1835, val loss: 0.1754, time_taken: 4.2\n",
      "epoch 99\n",
      "autoencoder_model epoch 99 saved as autoencoder_model.pt\n",
      "Epoch 100/100, train loss: 0.1835, val loss: 0.1754, time_taken: 3.4\n"
     ]
    }
   ],
   "source": [
    "# Train the model - calc reconstruction loss only\n",
    "\n",
    "from torch.optim.lr_scheduler import ReduceLROnPlateau\n",
    "\n",
    "criterion = nn.MSELoss()\n",
    "autoencoder_model = Autoencoder(\n",
    "    input_features=input_features,\n",
    "    lookback=lookback,\n",
    "    hidden_size=hidden_size\n",
    ").to(device)\n",
    "optimizer = torch.optim.Adam(autoencoder_model.parameters(), lr=lr)\n",
    "scheduler = ReduceLROnPlateau(optimizer, 'min', factor=scheduler_factor, patience=scheduler_patience)\n",
    "\n",
    "epochs = 100\n",
    "early_stop_count = 0\n",
    "min_val_loss = float('inf')\n",
    "\n",
    "train_losses=[]\n",
    "val_losses=[]\n",
    "\n",
    "\n",
    "for epoch in range(epochs):\n",
    "    epoch_start_time = time.time()\n",
    "    print(f'epoch {epoch}')\n",
    "    autoencoder_model.train()\n",
    "\n",
    "    train_running_loss = []\n",
    "    for batch in train_loader:\n",
    "        x_batch, _ = batch\n",
    "        x_batch = x_batch.to(device)\n",
    "\n",
    "        optimizer.zero_grad()\n",
    "        outputs = autoencoder_model(x_batch)\n",
    "        loss = criterion(outputs, x_batch)\n",
    "        train_running_loss.append(loss.item())\n",
    "        loss.backward()\n",
    "        optimizer.step()\n",
    "\n",
    "    train_loss = np.mean(train_running_loss)\n",
    "    train_losses.append(train_loss)\n",
    "\n",
    "    # Validation\n",
    "    autoencoder_model.eval()\n",
    "    val_running_loss = []\n",
    "    with torch.no_grad():\n",
    "        for batch in val_loader:\n",
    "            x_batch, _ = batch\n",
    "            x_batch = x_batch.to(device)\n",
    "            outputs = autoencoder_model(x_batch)\n",
    "            loss = criterion(outputs, x_batch)\n",
    "            val_running_loss.append(loss.item())\n",
    "\n",
    "    val_loss = np.mean(val_running_loss)\n",
    "    val_losses.append(val_loss)\n",
    "\n",
    "    scheduler.step(val_loss)\n",
    "\n",
    "    if val_loss < min_val_loss:\n",
    "        min_val_loss = val_loss\n",
    "        torch.save(autoencoder_model.state_dict(), 'autoencoder_model.pt')\n",
    "        print(f'autoencoder_model epoch {epoch} saved as autoencoder_model.pt')\n",
    "        early_stop_count = 0\n",
    "    else:\n",
    "        early_stop_count += 1\n",
    "\n",
    "    if early_stop_count >= early_stopping_limit:\n",
    "        print(\"Early stopping!\")\n",
    "        break\n",
    "\n",
    "    time_taken = round(time.time()-epoch_start_time,1)\n",
    "    print(f\"Epoch {epoch + 1}/{epochs}, train loss: {train_loss:.4f}, val loss: {val_loss:.4f}, time_taken: {time_taken}\")"
   ]
  },
  {
   "cell_type": "code",
   "execution_count": null,
   "metadata": {
    "colab": {
     "base_uri": "https://localhost:8080/"
    },
    "id": "PCamMrkVixmT",
    "outputId": "e0194213-470d-4f29-e73b-5d890532cf89",
    "tags": []
   },
   "outputs": [
    {
     "data": {
      "text/plain": [
       "tensor(0.4275, device='cuda:0', grad_fn=<MseLossBackward0>)"
      ]
     },
     "execution_count": 47,
     "metadata": {},
     "output_type": "execute_result"
    }
   ],
   "source": [
    "nn.MSELoss()(model(x_batch),x_batch)"
   ]
  },
  {
   "cell_type": "markdown",
   "metadata": {
    "id": "evEN8fv8ixmT",
    "jp-MarkdownHeadingCollapsed": true,
    "tags": []
   },
   "source": [
    "# Dimensionality reduction - Nonlinear Autoencoder 2 - LSTM autoencoder"
   ]
  },
  {
   "cell_type": "code",
   "execution_count": 13,
   "metadata": {
    "colab": {
     "base_uri": "https://localhost:8080/"
    },
    "id": "vp1Jie2vixmT",
    "outputId": "fe978b06-9642-4e2e-af68-2b17085bd269",
    "tags": []
   },
   "outputs": [
    {
     "data": {
      "text/plain": [
       "torch.Size([512, 10, 14])"
      ]
     },
     "execution_count": 13,
     "metadata": {},
     "output_type": "execute_result"
    }
   ],
   "source": [
    "class LSTM_Autoencoder(nn.Module):\n",
    "    def __init__(self, input_size, hidden_size, num_stacked_layers):\n",
    "        # input size is number of expected features in the input x\n",
    "        super().__init__()\n",
    "        self.input_size = input_size\n",
    "        self.hidden_size = hidden_size\n",
    "        self.num_stacked_layers = num_stacked_layers\n",
    "\n",
    "        self.lstm_encoder = nn.LSTM(input_size, hidden_size, num_stacked_layers,batch_first=True)\n",
    "        self.fc_encoder = nn.Linear(hidden_size, 2)\n",
    "\n",
    "        self.fc_decoder = nn.Linear(2, hidden_size)\n",
    "        self.lstm_decoder = nn.LSTM(hidden_size, input_size, num_stacked_layers,batch_first=True)\n",
    "\n",
    "    def forward(self, x):\n",
    "        batch_size = x.size(0) # input must be torch tensor\n",
    "\n",
    "        # ENCODE\n",
    "        h0 = torch.zeros(self.num_stacked_layers, batch_size, self.hidden_size).to(device) # short term memory\n",
    "        c0 = torch.zeros(self.num_stacked_layers, batch_size, self.hidden_size).to(device) # long term memory\n",
    "        out, _ = self.lstm_encoder(x, (h0, c0)) # output is output, (h_n, c_n), but we dont need to track the next state h1,c1 as the model does it for us\n",
    "        # out shape is (batch_size, num_timesteps inclusive of predicted day, num_features_in_hidden_state)\n",
    "        out = self.fc_encoder(out)\n",
    "\n",
    "        # DECODE\n",
    "        out = self.fc_decoder(out)\n",
    "        h0 = torch.zeros(self.num_stacked_layers, batch_size, self.input_size).to(device) # short term memory\n",
    "        c0 = torch.zeros(self.num_stacked_layers, batch_size, self.input_size).to(device) # long term memory\n",
    "        out, _ = self.lstm_decoder(out, (h0, c0)) # output is output, (h_n, c_n), but we dont need to track the next state h1,c1 as the model does it for us\n",
    "\n",
    "        return out\n",
    "\n",
    "input_size = 14 # features\n",
    "hidden_size = 4\n",
    "num_stacked_layers = 1\n",
    "model = LSTM_Autoencoder(input_size, hidden_size, num_stacked_layers).to(device)\n",
    "out = model(x_batch.to(device))\n",
    "out.shape"
   ]
  },
  {
   "cell_type": "markdown",
   "metadata": {
    "id": "bYOKZMWeixmT",
    "jp-MarkdownHeadingCollapsed": true,
    "tags": []
   },
   "source": [
    "## Train autoencoder"
   ]
  },
  {
   "cell_type": "code",
   "execution_count": null,
   "metadata": {
    "colab": {
     "base_uri": "https://localhost:8080/"
    },
    "id": "UKK3MqkmixmT",
    "outputId": "720afc81-fc5a-4583-d759-ba05dd3eefe3",
    "tags": []
   },
   "outputs": [
    {
     "name": "stdout",
     "output_type": "stream",
     "text": [
      "epoch 0\n",
      "lstm_autoencoder_model epoch 0 saved as lstm_autoencoder_model.pt\n",
      "Epoch 1/100, train loss: 0.1143, val loss: 0.0460, time_taken: 5.0\n",
      "epoch 1\n",
      "lstm_autoencoder_model epoch 1 saved as lstm_autoencoder_model.pt\n",
      "Epoch 2/100, train loss: 0.0440, val loss: 0.0363, time_taken: 4.1\n",
      "epoch 2\n",
      "lstm_autoencoder_model epoch 2 saved as lstm_autoencoder_model.pt\n",
      "Epoch 3/100, train loss: 0.0379, val loss: 0.0297, time_taken: 3.8\n",
      "epoch 3\n",
      "lstm_autoencoder_model epoch 3 saved as lstm_autoencoder_model.pt\n",
      "Epoch 4/100, train loss: 0.0290, val loss: 0.0234, time_taken: 4.7\n",
      "epoch 4\n",
      "lstm_autoencoder_model epoch 4 saved as lstm_autoencoder_model.pt\n",
      "Epoch 5/100, train loss: 0.0262, val loss: 0.0223, time_taken: 4.1\n",
      "epoch 5\n",
      "lstm_autoencoder_model epoch 5 saved as lstm_autoencoder_model.pt\n",
      "Epoch 6/100, train loss: 0.0252, val loss: 0.0217, time_taken: 4.0\n",
      "epoch 6\n",
      "lstm_autoencoder_model epoch 6 saved as lstm_autoencoder_model.pt\n",
      "Epoch 7/100, train loss: 0.0245, val loss: 0.0212, time_taken: 5.2\n",
      "epoch 7\n",
      "lstm_autoencoder_model epoch 7 saved as lstm_autoencoder_model.pt\n",
      "Epoch 8/100, train loss: 0.0241, val loss: 0.0209, time_taken: 4.2\n",
      "epoch 8\n",
      "lstm_autoencoder_model epoch 8 saved as lstm_autoencoder_model.pt\n",
      "Epoch 9/100, train loss: 0.0238, val loss: 0.0208, time_taken: 4.1\n",
      "epoch 9\n",
      "lstm_autoencoder_model epoch 9 saved as lstm_autoencoder_model.pt\n",
      "Epoch 10/100, train loss: 0.0235, val loss: 0.0207, time_taken: 4.7\n",
      "epoch 10\n",
      "lstm_autoencoder_model epoch 10 saved as lstm_autoencoder_model.pt\n",
      "Epoch 11/100, train loss: 0.0233, val loss: 0.0207, time_taken: 4.5\n",
      "epoch 11\n",
      "lstm_autoencoder_model epoch 11 saved as lstm_autoencoder_model.pt\n",
      "Epoch 12/100, train loss: 0.0231, val loss: 0.0207, time_taken: 4.0\n",
      "epoch 12\n",
      "lstm_autoencoder_model epoch 12 saved as lstm_autoencoder_model.pt\n",
      "Epoch 13/100, train loss: 0.0228, val loss: 0.0205, time_taken: 5.9\n",
      "epoch 13\n",
      "lstm_autoencoder_model epoch 13 saved as lstm_autoencoder_model.pt\n",
      "Epoch 14/100, train loss: 0.0222, val loss: 0.0199, time_taken: 3.9\n",
      "epoch 14\n",
      "lstm_autoencoder_model epoch 14 saved as lstm_autoencoder_model.pt\n",
      "Epoch 15/100, train loss: 0.0200, val loss: 0.0155, time_taken: 3.8\n",
      "epoch 15\n",
      "lstm_autoencoder_model epoch 15 saved as lstm_autoencoder_model.pt\n",
      "Epoch 16/100, train loss: 0.0154, val loss: 0.0119, time_taken: 5.0\n",
      "epoch 16\n",
      "lstm_autoencoder_model epoch 16 saved as lstm_autoencoder_model.pt\n",
      "Epoch 17/100, train loss: 0.0130, val loss: 0.0107, time_taken: 4.1\n",
      "epoch 17\n",
      "lstm_autoencoder_model epoch 17 saved as lstm_autoencoder_model.pt\n",
      "Epoch 18/100, train loss: 0.0119, val loss: 0.0101, time_taken: 4.0\n",
      "epoch 18\n",
      "lstm_autoencoder_model epoch 18 saved as lstm_autoencoder_model.pt\n",
      "Epoch 19/100, train loss: 0.0114, val loss: 0.0097, time_taken: 4.6\n",
      "epoch 19\n",
      "lstm_autoencoder_model epoch 19 saved as lstm_autoencoder_model.pt\n",
      "Epoch 20/100, train loss: 0.0110, val loss: 0.0093, time_taken: 5.1\n",
      "epoch 20\n",
      "lstm_autoencoder_model epoch 20 saved as lstm_autoencoder_model.pt\n",
      "Epoch 21/100, train loss: 0.0101, val loss: 0.0086, time_taken: 4.2\n",
      "epoch 21\n",
      "lstm_autoencoder_model epoch 21 saved as lstm_autoencoder_model.pt\n",
      "Epoch 22/100, train loss: 0.0091, val loss: 0.0082, time_taken: 5.1\n",
      "epoch 22\n",
      "lstm_autoencoder_model epoch 22 saved as lstm_autoencoder_model.pt\n",
      "Epoch 23/100, train loss: 0.0087, val loss: 0.0080, time_taken: 4.0\n",
      "epoch 23\n",
      "lstm_autoencoder_model epoch 23 saved as lstm_autoencoder_model.pt\n",
      "Epoch 24/100, train loss: 0.0085, val loss: 0.0079, time_taken: 4.7\n",
      "epoch 24\n",
      "lstm_autoencoder_model epoch 24 saved as lstm_autoencoder_model.pt\n",
      "Epoch 25/100, train loss: 0.0083, val loss: 0.0078, time_taken: 5.0\n",
      "epoch 25\n",
      "lstm_autoencoder_model epoch 25 saved as lstm_autoencoder_model.pt\n",
      "Epoch 26/100, train loss: 0.0082, val loss: 0.0077, time_taken: 3.8\n",
      "epoch 26\n",
      "lstm_autoencoder_model epoch 26 saved as lstm_autoencoder_model.pt\n",
      "Epoch 27/100, train loss: 0.0081, val loss: 0.0076, time_taken: 4.0\n",
      "epoch 27\n",
      "lstm_autoencoder_model epoch 27 saved as lstm_autoencoder_model.pt\n",
      "Epoch 28/100, train loss: 0.0078, val loss: 0.0075, time_taken: 5.1\n",
      "epoch 28\n",
      "lstm_autoencoder_model epoch 28 saved as lstm_autoencoder_model.pt\n",
      "Epoch 29/100, train loss: 0.0074, val loss: 0.0074, time_taken: 4.0\n",
      "epoch 29\n",
      "lstm_autoencoder_model epoch 29 saved as lstm_autoencoder_model.pt\n",
      "Epoch 30/100, train loss: 0.0071, val loss: 0.0073, time_taken: 3.9\n",
      "epoch 30\n",
      "lstm_autoencoder_model epoch 30 saved as lstm_autoencoder_model.pt\n",
      "Epoch 31/100, train loss: 0.0070, val loss: 0.0073, time_taken: 5.1\n",
      "epoch 31\n",
      "lstm_autoencoder_model epoch 31 saved as lstm_autoencoder_model.pt\n",
      "Epoch 32/100, train loss: 0.0070, val loss: 0.0072, time_taken: 3.8\n",
      "epoch 32\n",
      "lstm_autoencoder_model epoch 32 saved as lstm_autoencoder_model.pt\n",
      "Epoch 33/100, train loss: 0.0069, val loss: 0.0072, time_taken: 4.0\n",
      "epoch 33\n",
      "lstm_autoencoder_model epoch 33 saved as lstm_autoencoder_model.pt\n",
      "Epoch 34/100, train loss: 0.0069, val loss: 0.0071, time_taken: 6.2\n",
      "epoch 34\n",
      "lstm_autoencoder_model epoch 34 saved as lstm_autoencoder_model.pt\n",
      "Epoch 35/100, train loss: 0.0068, val loss: 0.0071, time_taken: 5.9\n",
      "epoch 35\n",
      "lstm_autoencoder_model epoch 35 saved as lstm_autoencoder_model.pt\n",
      "Epoch 36/100, train loss: 0.0068, val loss: 0.0071, time_taken: 4.7\n",
      "epoch 36\n",
      "lstm_autoencoder_model epoch 36 saved as lstm_autoencoder_model.pt\n",
      "Epoch 37/100, train loss: 0.0068, val loss: 0.0071, time_taken: 4.3\n",
      "epoch 37\n",
      "lstm_autoencoder_model epoch 37 saved as lstm_autoencoder_model.pt\n",
      "Epoch 38/100, train loss: 0.0067, val loss: 0.0070, time_taken: 4.0\n",
      "epoch 38\n",
      "lstm_autoencoder_model epoch 38 saved as lstm_autoencoder_model.pt\n",
      "Epoch 39/100, train loss: 0.0067, val loss: 0.0070, time_taken: 4.6\n",
      "epoch 39\n",
      "lstm_autoencoder_model epoch 39 saved as lstm_autoencoder_model.pt\n",
      "Epoch 40/100, train loss: 0.0067, val loss: 0.0070, time_taken: 4.4\n",
      "epoch 40\n",
      "lstm_autoencoder_model epoch 40 saved as lstm_autoencoder_model.pt\n",
      "Epoch 41/100, train loss: 0.0066, val loss: 0.0070, time_taken: 4.1\n",
      "epoch 41\n",
      "lstm_autoencoder_model epoch 41 saved as lstm_autoencoder_model.pt\n",
      "Epoch 42/100, train loss: 0.0066, val loss: 0.0069, time_taken: 4.3\n",
      "epoch 42\n",
      "lstm_autoencoder_model epoch 42 saved as lstm_autoencoder_model.pt\n",
      "Epoch 43/100, train loss: 0.0066, val loss: 0.0069, time_taken: 4.6\n",
      "epoch 43\n",
      "lstm_autoencoder_model epoch 43 saved as lstm_autoencoder_model.pt\n",
      "Epoch 44/100, train loss: 0.0066, val loss: 0.0069, time_taken: 4.0\n",
      "epoch 44\n",
      "lstm_autoencoder_model epoch 44 saved as lstm_autoencoder_model.pt\n",
      "Epoch 45/100, train loss: 0.0066, val loss: 0.0069, time_taken: 4.4\n",
      "epoch 45\n",
      "lstm_autoencoder_model epoch 45 saved as lstm_autoencoder_model.pt\n",
      "Epoch 46/100, train loss: 0.0066, val loss: 0.0069, time_taken: 4.5\n",
      "epoch 46\n",
      "lstm_autoencoder_model epoch 46 saved as lstm_autoencoder_model.pt\n",
      "Epoch 47/100, train loss: 0.0065, val loss: 0.0068, time_taken: 4.0\n",
      "epoch 47\n",
      "lstm_autoencoder_model epoch 47 saved as lstm_autoencoder_model.pt\n",
      "Epoch 48/100, train loss: 0.0065, val loss: 0.0068, time_taken: 4.1\n",
      "epoch 48\n",
      "lstm_autoencoder_model epoch 48 saved as lstm_autoencoder_model.pt\n",
      "Epoch 49/100, train loss: 0.0065, val loss: 0.0068, time_taken: 4.8\n",
      "epoch 49\n",
      "lstm_autoencoder_model epoch 49 saved as lstm_autoencoder_model.pt\n",
      "Epoch 50/100, train loss: 0.0065, val loss: 0.0068, time_taken: 4.0\n",
      "epoch 50\n",
      "lstm_autoencoder_model epoch 50 saved as lstm_autoencoder_model.pt\n",
      "Epoch 51/100, train loss: 0.0065, val loss: 0.0068, time_taken: 4.1\n",
      "epoch 51\n",
      "lstm_autoencoder_model epoch 51 saved as lstm_autoencoder_model.pt\n",
      "Epoch 52/100, train loss: 0.0065, val loss: 0.0068, time_taken: 4.9\n",
      "epoch 52\n",
      "lstm_autoencoder_model epoch 52 saved as lstm_autoencoder_model.pt\n",
      "Epoch 53/100, train loss: 0.0064, val loss: 0.0067, time_taken: 3.9\n",
      "epoch 53\n",
      "lstm_autoencoder_model epoch 53 saved as lstm_autoencoder_model.pt\n",
      "Epoch 54/100, train loss: 0.0064, val loss: 0.0067, time_taken: 4.2\n",
      "epoch 54\n",
      "lstm_autoencoder_model epoch 54 saved as lstm_autoencoder_model.pt\n",
      "Epoch 55/100, train loss: 0.0064, val loss: 0.0067, time_taken: 5.0\n",
      "epoch 55\n",
      "lstm_autoencoder_model epoch 55 saved as lstm_autoencoder_model.pt\n",
      "Epoch 56/100, train loss: 0.0064, val loss: 0.0067, time_taken: 3.9\n",
      "epoch 56\n",
      "lstm_autoencoder_model epoch 56 saved as lstm_autoencoder_model.pt\n",
      "Epoch 57/100, train loss: 0.0064, val loss: 0.0067, time_taken: 4.1\n",
      "epoch 57\n",
      "lstm_autoencoder_model epoch 57 saved as lstm_autoencoder_model.pt\n",
      "Epoch 58/100, train loss: 0.0064, val loss: 0.0067, time_taken: 4.9\n",
      "epoch 58\n",
      "lstm_autoencoder_model epoch 58 saved as lstm_autoencoder_model.pt\n",
      "Epoch 59/100, train loss: 0.0064, val loss: 0.0067, time_taken: 4.1\n",
      "epoch 59\n",
      "lstm_autoencoder_model epoch 59 saved as lstm_autoencoder_model.pt\n",
      "Epoch 60/100, train loss: 0.0064, val loss: 0.0067, time_taken: 4.0\n",
      "epoch 60\n",
      "lstm_autoencoder_model epoch 60 saved as lstm_autoencoder_model.pt\n",
      "Epoch 61/100, train loss: 0.0064, val loss: 0.0067, time_taken: 5.1\n",
      "epoch 61\n",
      "lstm_autoencoder_model epoch 61 saved as lstm_autoencoder_model.pt\n",
      "Epoch 62/100, train loss: 0.0064, val loss: 0.0067, time_taken: 3.8\n",
      "epoch 62\n",
      "lstm_autoencoder_model epoch 62 saved as lstm_autoencoder_model.pt\n",
      "Epoch 63/100, train loss: 0.0063, val loss: 0.0067, time_taken: 4.0\n",
      "epoch 63\n",
      "lstm_autoencoder_model epoch 63 saved as lstm_autoencoder_model.pt\n",
      "Epoch 64/100, train loss: 0.0063, val loss: 0.0067, time_taken: 4.9\n",
      "epoch 64\n",
      "lstm_autoencoder_model epoch 64 saved as lstm_autoencoder_model.pt\n",
      "Epoch 65/100, train loss: 0.0063, val loss: 0.0067, time_taken: 4.0\n",
      "epoch 65\n",
      "lstm_autoencoder_model epoch 65 saved as lstm_autoencoder_model.pt\n",
      "Epoch 66/100, train loss: 0.0063, val loss: 0.0067, time_taken: 4.0\n",
      "epoch 66\n",
      "lstm_autoencoder_model epoch 66 saved as lstm_autoencoder_model.pt\n",
      "Epoch 67/100, train loss: 0.0063, val loss: 0.0066, time_taken: 4.9\n",
      "epoch 67\n",
      "lstm_autoencoder_model epoch 67 saved as lstm_autoencoder_model.pt\n",
      "Epoch 68/100, train loss: 0.0063, val loss: 0.0066, time_taken: 4.1\n",
      "epoch 68\n",
      "lstm_autoencoder_model epoch 68 saved as lstm_autoencoder_model.pt\n",
      "Epoch 69/100, train loss: 0.0063, val loss: 0.0066, time_taken: 3.9\n",
      "epoch 69\n",
      "lstm_autoencoder_model epoch 69 saved as lstm_autoencoder_model.pt\n",
      "Epoch 70/100, train loss: 0.0063, val loss: 0.0066, time_taken: 5.0\n",
      "epoch 70\n",
      "lstm_autoencoder_model epoch 70 saved as lstm_autoencoder_model.pt\n",
      "Epoch 71/100, train loss: 0.0063, val loss: 0.0066, time_taken: 4.0\n",
      "epoch 71\n",
      "lstm_autoencoder_model epoch 71 saved as lstm_autoencoder_model.pt\n",
      "Epoch 72/100, train loss: 0.0063, val loss: 0.0066, time_taken: 4.0\n",
      "epoch 72\n",
      "lstm_autoencoder_model epoch 72 saved as lstm_autoencoder_model.pt\n",
      "Epoch 73/100, train loss: 0.0063, val loss: 0.0066, time_taken: 4.9\n",
      "epoch 73\n",
      "lstm_autoencoder_model epoch 73 saved as lstm_autoencoder_model.pt\n",
      "Epoch 74/100, train loss: 0.0063, val loss: 0.0066, time_taken: 3.8\n",
      "epoch 74\n",
      "lstm_autoencoder_model epoch 74 saved as lstm_autoencoder_model.pt\n",
      "Epoch 75/100, train loss: 0.0063, val loss: 0.0066, time_taken: 4.1\n",
      "epoch 75\n",
      "lstm_autoencoder_model epoch 75 saved as lstm_autoencoder_model.pt\n",
      "Epoch 76/100, train loss: 0.0063, val loss: 0.0066, time_taken: 5.1\n",
      "epoch 76\n",
      "lstm_autoencoder_model epoch 76 saved as lstm_autoencoder_model.pt\n",
      "Epoch 77/100, train loss: 0.0063, val loss: 0.0066, time_taken: 4.0\n",
      "epoch 77\n",
      "lstm_autoencoder_model epoch 77 saved as lstm_autoencoder_model.pt\n",
      "Epoch 78/100, train loss: 0.0062, val loss: 0.0065, time_taken: 3.9\n",
      "epoch 78\n",
      "lstm_autoencoder_model epoch 78 saved as lstm_autoencoder_model.pt\n",
      "Epoch 79/100, train loss: 0.0062, val loss: 0.0065, time_taken: 5.1\n",
      "epoch 79\n",
      "lstm_autoencoder_model epoch 79 saved as lstm_autoencoder_model.pt\n",
      "Epoch 80/100, train loss: 0.0062, val loss: 0.0065, time_taken: 5.1\n",
      "epoch 80\n",
      "lstm_autoencoder_model epoch 80 saved as lstm_autoencoder_model.pt\n",
      "Epoch 81/100, train loss: 0.0062, val loss: 0.0065, time_taken: 4.1\n",
      "epoch 81\n",
      "lstm_autoencoder_model epoch 81 saved as lstm_autoencoder_model.pt\n",
      "Epoch 82/100, train loss: 0.0062, val loss: 0.0065, time_taken: 5.3\n",
      "epoch 82\n",
      "lstm_autoencoder_model epoch 82 saved as lstm_autoencoder_model.pt\n",
      "Epoch 83/100, train loss: 0.0062, val loss: 0.0065, time_taken: 3.9\n",
      "epoch 83\n",
      "lstm_autoencoder_model epoch 83 saved as lstm_autoencoder_model.pt\n",
      "Epoch 84/100, train loss: 0.0062, val loss: 0.0065, time_taken: 4.0\n",
      "epoch 84\n",
      "lstm_autoencoder_model epoch 84 saved as lstm_autoencoder_model.pt\n",
      "Epoch 85/100, train loss: 0.0062, val loss: 0.0065, time_taken: 4.9\n",
      "epoch 85\n",
      "lstm_autoencoder_model epoch 85 saved as lstm_autoencoder_model.pt\n",
      "Epoch 86/100, train loss: 0.0062, val loss: 0.0065, time_taken: 4.0\n",
      "epoch 86\n",
      "lstm_autoencoder_model epoch 86 saved as lstm_autoencoder_model.pt\n",
      "Epoch 87/100, train loss: 0.0062, val loss: 0.0064, time_taken: 4.0\n",
      "epoch 87\n",
      "lstm_autoencoder_model epoch 87 saved as lstm_autoencoder_model.pt\n",
      "Epoch 88/100, train loss: 0.0062, val loss: 0.0064, time_taken: 5.0\n",
      "epoch 88\n",
      "lstm_autoencoder_model epoch 88 saved as lstm_autoencoder_model.pt\n",
      "Epoch 89/100, train loss: 0.0062, val loss: 0.0064, time_taken: 3.9\n",
      "epoch 89\n",
      "lstm_autoencoder_model epoch 89 saved as lstm_autoencoder_model.pt\n",
      "Epoch 90/100, train loss: 0.0062, val loss: 0.0064, time_taken: 4.0\n",
      "epoch 90\n",
      "lstm_autoencoder_model epoch 90 saved as lstm_autoencoder_model.pt\n",
      "Epoch 91/100, train loss: 0.0062, val loss: 0.0064, time_taken: 4.9\n",
      "epoch 91\n",
      "lstm_autoencoder_model epoch 91 saved as lstm_autoencoder_model.pt\n",
      "Epoch 92/100, train loss: 0.0062, val loss: 0.0064, time_taken: 4.0\n",
      "epoch 92\n",
      "lstm_autoencoder_model epoch 92 saved as lstm_autoencoder_model.pt\n",
      "Epoch 93/100, train loss: 0.0062, val loss: 0.0064, time_taken: 4.0\n",
      "epoch 93\n",
      "lstm_autoencoder_model epoch 93 saved as lstm_autoencoder_model.pt\n",
      "Epoch 94/100, train loss: 0.0062, val loss: 0.0064, time_taken: 4.9\n",
      "epoch 94\n",
      "lstm_autoencoder_model epoch 94 saved as lstm_autoencoder_model.pt\n",
      "Epoch 95/100, train loss: 0.0062, val loss: 0.0064, time_taken: 4.0\n",
      "epoch 95\n",
      "lstm_autoencoder_model epoch 95 saved as lstm_autoencoder_model.pt\n",
      "Epoch 96/100, train loss: 0.0062, val loss: 0.0064, time_taken: 3.9\n",
      "epoch 96\n",
      "lstm_autoencoder_model epoch 96 saved as lstm_autoencoder_model.pt\n",
      "Epoch 97/100, train loss: 0.0062, val loss: 0.0064, time_taken: 5.0\n",
      "epoch 97\n",
      "lstm_autoencoder_model epoch 97 saved as lstm_autoencoder_model.pt\n",
      "Epoch 98/100, train loss: 0.0062, val loss: 0.0064, time_taken: 4.0\n",
      "epoch 98\n",
      "lstm_autoencoder_model epoch 98 saved as lstm_autoencoder_model.pt\n",
      "Epoch 99/100, train loss: 0.0062, val loss: 0.0064, time_taken: 3.9\n",
      "epoch 99\n",
      "lstm_autoencoder_model epoch 99 saved as lstm_autoencoder_model.pt\n",
      "Epoch 100/100, train loss: 0.0062, val loss: 0.0064, time_taken: 6.6\n"
     ]
    }
   ],
   "source": [
    "# Train the model - calc reconstruction loss only\n",
    "\n",
    "from torch.optim.lr_scheduler import ReduceLROnPlateau\n",
    "\n",
    "criterion = nn.MSELoss()\n",
    "\n",
    "lstm_autoencoder_model = LSTM_Autoencoder(\n",
    "    input_size = input_size, #features\n",
    "    hidden_size = 4,\n",
    "    num_stacked_layers = num_stacked_layers\n",
    ").to(device)\n",
    "\n",
    "optimizer = torch.optim.Adam(lstm_autoencoder_model.parameters(), lr=lr)\n",
    "scheduler = ReduceLROnPlateau(optimizer, 'min', factor=scheduler_factor, patience=scheduler_patience)\n",
    "\n",
    "epochs = 100\n",
    "early_stop_count = 0\n",
    "min_val_loss = float('inf')\n",
    "\n",
    "train_losses=[]\n",
    "val_losses=[]\n",
    "\n",
    "\n",
    "for epoch in range(epochs):\n",
    "    epoch_start_time = time.time()\n",
    "    print(f'epoch {epoch}')\n",
    "    lstm_autoencoder_model.train()\n",
    "\n",
    "    train_running_loss = []\n",
    "    for batch in train_loader:\n",
    "        x_batch, _ = batch\n",
    "        x_batch = x_batch.to(device)\n",
    "\n",
    "        optimizer.zero_grad()\n",
    "        outputs = lstm_autoencoder_model(x_batch)\n",
    "        loss = criterion(outputs, x_batch)\n",
    "        train_running_loss.append(loss.item())\n",
    "        loss.backward()\n",
    "        optimizer.step()\n",
    "\n",
    "    train_loss = np.mean(train_running_loss)\n",
    "    train_losses.append(train_loss)\n",
    "\n",
    "    # Validation\n",
    "    lstm_autoencoder_model.eval()\n",
    "    val_running_loss = []\n",
    "    with torch.no_grad():\n",
    "        for batch in val_loader:\n",
    "            x_batch, _ = batch\n",
    "            x_batch = x_batch.to(device)\n",
    "            outputs = lstm_autoencoder_model(x_batch)\n",
    "            loss = criterion(outputs, x_batch)\n",
    "            val_running_loss.append(loss.item())\n",
    "\n",
    "    val_loss = np.mean(val_running_loss)\n",
    "    val_losses.append(val_loss)\n",
    "\n",
    "    scheduler.step(val_loss)\n",
    "\n",
    "    if val_loss < min_val_loss:\n",
    "        min_val_loss = val_loss\n",
    "        torch.save(lstm_autoencoder_model.state_dict(), 'lstm_autoencoder_model.pt')\n",
    "        print(f'lstm_autoencoder_model epoch {epoch} saved as lstm_autoencoder_model.pt')\n",
    "        early_stop_count = 0\n",
    "    else:\n",
    "        early_stop_count += 1\n",
    "\n",
    "    if early_stop_count >= early_stopping_limit:\n",
    "        print(\"Early stopping!\")\n",
    "        break\n",
    "\n",
    "    time_taken = round(time.time()-epoch_start_time,1)\n",
    "    print(f\"Epoch {epoch + 1}/{epochs}, train loss: {train_loss:.4f}, val loss: {val_loss:.4f}, time_taken: {time_taken}\")"
   ]
  },
  {
   "cell_type": "code",
   "execution_count": null,
   "metadata": {
    "id": "jWtNnqTUixmU"
   },
   "outputs": [],
   "source": [
    "# Epoch 81/100, train loss: 0.1742, val loss: 0.1661, time_taken: 3.2\n",
    "# Epoch 100/100, train loss: 0.0117, val loss: 0.0118, time_taken: 9.2"
   ]
  },
  {
   "cell_type": "code",
   "execution_count": null,
   "metadata": {
    "colab": {
     "base_uri": "https://localhost:8080/"
    },
    "id": "hrytqr4SixmU",
    "outputId": "136b0c6e-6bf0-41eb-a8f5-1cd8064f3701",
    "tags": []
   },
   "outputs": [
    {
     "data": {
      "text/plain": [
       "tensor(0.0053, device='cuda:0', grad_fn=<MseLossBackward0>)"
      ]
     },
     "execution_count": 21,
     "metadata": {},
     "output_type": "execute_result"
    }
   ],
   "source": [
    "nn.MSELoss()(lstm_autoencoder_model(x_batch),x_batch)"
   ]
  },
  {
   "cell_type": "markdown",
   "metadata": {
    "id": "tZ90IcffixmU",
    "jp-MarkdownHeadingCollapsed": true,
    "tags": []
   },
   "source": [
    "# Compare autoencoder reconstruction performance"
   ]
  },
  {
   "cell_type": "code",
   "execution_count": null,
   "metadata": {
    "colab": {
     "base_uri": "https://localhost:8080/"
    },
    "id": "27W5OmvSixmU",
    "outputId": "a5c29d51-6459-4129-f234-0ed56ce5ae78",
    "tags": []
   },
   "outputs": [
    {
     "data": {
      "text/plain": [
       "torch.Size([42055, 10, 14])"
      ]
     },
     "execution_count": 48,
     "metadata": {},
     "output_type": "execute_result"
    }
   ],
   "source": [
    "X_test.shape"
   ]
  },
  {
   "cell_type": "code",
   "execution_count": null,
   "metadata": {
    "id": "CUl4oJzmixmU",
    "tags": []
   },
   "outputs": [],
   "source": [
    "# # Example usage:\n",
    "# input_features = 14\n",
    "# lookback = 10\n",
    "# hidden_size = 20\n",
    "# model = Autoencoder(input_features=input_features, lookback=lookback, hidden_size=hidden_size)\n",
    "\n",
    "# # Forward pass\n",
    "# output = model(x_batch)\n",
    "# print(x_batch.shape)\n",
    "# print(\"Output shape:\", output.shape)"
   ]
  },
  {
   "cell_type": "code",
   "execution_count": null,
   "metadata": {
    "colab": {
     "base_uri": "https://localhost:8080/"
    },
    "id": "735iqttBixmU",
    "outputId": "d7beef2e-0654-47ae-e5bf-f19c527ad3b9",
    "tags": []
   },
   "outputs": [
    {
     "name": "stdout",
     "output_type": "stream",
     "text": [
      "model loaded\n",
      "Average MSE Loss: 0.1572244\n",
      "Average MAE Loss: 0.2567081\n"
     ]
    }
   ],
   "source": [
    "# load simple autoencoder\n",
    "\n",
    "autoencoder_model = Autoencoder(\n",
    "    input_features=input_features,\n",
    "    lookback=lookback,\n",
    "    hidden_size=hidden_size\n",
    ").to(device)\n",
    "autoencoder_model.load_state_dict(torch.load('autoencoder_model.pt',map_location=device))\n",
    "autoencoder_model.eval()\n",
    "print('model loaded')\n",
    "\n",
    "mse_losses,mae_losses = [],[]\n",
    "for batch in test_loader:\n",
    "    x_batch, _ = batch\n",
    "    x_batch = x_batch.to(device)\n",
    "\n",
    "    predictions = autoencoder_model(x_batch.to(device))\n",
    "    mse_loss = nn.MSELoss()(predictions.cpu().detach(),x_batch.cpu().detach())\n",
    "    mae_loss = nn.L1Loss()(predictions.cpu().detach(),x_batch.cpu().detach())\n",
    "    mse_losses.append(mse_loss)\n",
    "    mae_losses.append(mae_loss)\n",
    "\n",
    "# Compute the average MSE and MAE over all batches\n",
    "avg_mse_loss = round((sum(mse_losses) / len(mse_losses)).item(),7)\n",
    "avg_mae_loss = round((sum(mae_losses) / len(mae_losses)).item(),7)\n",
    "\n",
    "# Print the average MSE and MAE\n",
    "print(\"Average MSE Loss:\", avg_mse_loss)\n",
    "print(\"Average MAE Loss:\", avg_mae_loss)"
   ]
  },
  {
   "cell_type": "code",
   "execution_count": null,
   "metadata": {
    "colab": {
     "base_uri": "https://localhost:8080/"
    },
    "id": "fzrVtXQIixmU",
    "outputId": "93737bd8-c116-4720-efd9-e65b558d4eac",
    "tags": []
   },
   "outputs": [
    {
     "name": "stdout",
     "output_type": "stream",
     "text": [
      "model loaded\n",
      "Average MSE Loss: 0.0059954\n",
      "Average MAE Loss: 0.0386229\n"
     ]
    }
   ],
   "source": [
    "# load lstm autoencoder\n",
    "\n",
    "lstm_autoencoder_model = LSTM_Autoencoder(\n",
    "    input_size = 14, #features\n",
    "    hidden_size = 4,\n",
    "    num_stacked_layers = num_stacked_layers\n",
    ").to(device)\n",
    "lstm_autoencoder_model.load_state_dict(torch.load('lstm_autoencoder_model.pt',map_location=device))\n",
    "lstm_autoencoder_model.eval()\n",
    "print('model loaded')\n",
    "\n",
    "mse_losses,mae_losses = [],[]\n",
    "for batch in test_loader:\n",
    "    x_batch, _ = batch\n",
    "    x_batch = x_batch.to(device)\n",
    "\n",
    "    predictions = lstm_autoencoder_model(x_batch.to(device))\n",
    "    mse_loss = nn.MSELoss()(predictions.cpu().detach(),x_batch.cpu().detach())\n",
    "    mae_loss = nn.L1Loss()(predictions.cpu().detach(),x_batch.cpu().detach())\n",
    "    mse_losses.append(mse_loss)\n",
    "    mae_losses.append(mae_loss)\n",
    "\n",
    "# Compute the average MSE and MAE over all batches\n",
    "avg_mse_loss = round((sum(mse_losses) / len(mse_losses)).item(),7)\n",
    "avg_mae_loss = round((sum(mae_losses) / len(mae_losses)).item(),7)\n",
    "\n",
    "# Print the average MSE and MAE\n",
    "print(\"Average MSE Loss:\", avg_mse_loss)\n",
    "print(\"Average MAE Loss:\", avg_mae_loss)"
   ]
  },
  {
   "cell_type": "markdown",
   "metadata": {
    "id": "3JDlvod1ixmU"
   },
   "source": [
    "the results show that the LSTM autencoder is far better in mapping the input to a lower dim latent vector than the simple autoencoder as the average MSE and MAE loss on the reconstruction error on test set is much lower (order of magnitude lower)"
   ]
  },
  {
   "cell_type": "markdown",
   "metadata": {
    "id": "rSHNEZaf8CBs",
    "jp-MarkdownHeadingCollapsed": true,
    "tags": []
   },
   "source": [
    "# Define Models"
   ]
  },
  {
   "cell_type": "code",
   "execution_count": 12,
   "metadata": {
    "id": "hoT-VFSdOANz",
    "tags": []
   },
   "outputs": [],
   "source": [
    "class LSTM(nn.Module):\n",
    "    def __init__(self, input_size, hidden_size, num_stacked_layers):\n",
    "        # input size is number of expected features in the input x\n",
    "        super().__init__()\n",
    "        self.hidden_size = hidden_size\n",
    "        self.num_stacked_layers = num_stacked_layers\n",
    "\n",
    "        self.lstm = nn.LSTM(input_size, hidden_size, num_stacked_layers,batch_first=True)\n",
    "        self.fc = nn.Linear(hidden_size, 1)\n",
    "\n",
    "    def forward(self, x):\n",
    "        batch_size = x.size(0) # input must be torch tensor\n",
    "        h0 = torch.zeros(self.num_stacked_layers, batch_size, self.hidden_size).to(device) # short term memory\n",
    "        c0 = torch.zeros(self.num_stacked_layers, batch_size, self.hidden_size).to(device) # long term memory\n",
    "\n",
    "        out, _ = self.lstm(x, (h0, c0)) # output is output, (h_n, c_n), but we dont need to track the next state h1,c1 as the model does it for us\n",
    "        # out shape is (batch_size, num_timesteps inclusive of predicted day, num_features_in_hidden_state)\n",
    "        out = self.fc(out[:, -1, :]) # -1 to take the final value of the time series, this is the prediction for the current timestep, changes if dataset format is different, e.g. target at the end instead\n",
    "        return out\n",
    "\n",
    "\n",
    "class RNN(nn.Module):\n",
    "    def __init__(self, input_size, hidden_size, num_stacked_layers):\n",
    "        # input size is number of expected features in the input x\n",
    "        super().__init__()\n",
    "        self.hidden_size = hidden_size\n",
    "        self.num_stacked_layers = num_stacked_layers\n",
    "\n",
    "        self.rnn = nn.RNN(input_size, hidden_size, num_stacked_layers,batch_first=True)\n",
    "        self.fc = nn.Linear(hidden_size, 1)\n",
    "\n",
    "    def forward(self, x):\n",
    "        batch_size = x.size(0)\n",
    "        h0 = torch.zeros(self.num_stacked_layers, batch_size, self.hidden_size).to(device) # rnn only has h0 short term memory, no c0 long term memory\n",
    "\n",
    "        out, _ = self.rnn(x, h0) # output is (output, h_n) but dont need to manually keep track of the next h1, model does it for us\n",
    "        out = self.fc(out[:, -1, :]) # -1 to take the final value of the time series, this is the prediction for the current timestep, changes if dataset format is different, e.g. target at the end instead\n",
    "        return out\n",
    "\n",
    "\n",
    "class GRU(nn.Module):\n",
    "    def __init__(self, input_size, hidden_size, num_stacked_layers):\n",
    "        # input size is number of expected features in the input x\n",
    "        super().__init__()\n",
    "        self.hidden_size = hidden_size\n",
    "        self.num_stacked_layers = num_stacked_layers\n",
    "\n",
    "        self.gru = nn.GRU(input_size, hidden_size, num_stacked_layers,batch_first=True)\n",
    "        self.fc = nn.Linear(hidden_size, 1)\n",
    "\n",
    "    def forward(self, x):\n",
    "        batch_size = x.size(0)\n",
    "        h0 = torch.zeros(self.num_stacked_layers, batch_size, self.hidden_size).to(device) # gru only has h0 memory, no c0 long term memory\n",
    "\n",
    "        out, _ = self.gru(x, h0) # output is (output, h_n) but dont need to manually keep track of the next h1, model does it for us\n",
    "        out = self.fc(out[:, -1, :]) # -1 to take the final value of the time series, this is the prediction for the current timestep, changes if dataset format is different, e.g. target at the end instead\n",
    "        return out"
   ]
  },
  {
   "cell_type": "markdown",
   "metadata": {
    "id": "E7AdthuRixmV",
    "jp-MarkdownHeadingCollapsed": true,
    "tags": []
   },
   "source": [
    "# load LSTM autoencoder for latent vector inference"
   ]
  },
  {
   "cell_type": "code",
   "execution_count": null,
   "metadata": {
    "colab": {
     "base_uri": "https://localhost:8080/"
    },
    "id": "86ubjzunixmV",
    "outputId": "4c7c673f-c703-47d3-ce2e-674c37b6954f",
    "tags": []
   },
   "outputs": [
    {
     "name": "stdout",
     "output_type": "stream",
     "text": [
      "model loaded\n"
     ]
    }
   ],
   "source": [
    "lstm_autoencoder_model = LSTM_Autoencoder(\n",
    "    input_size = 14, #features\n",
    "    hidden_size = 4,\n",
    "    num_stacked_layers = num_stacked_layers\n",
    ").to(device)\n",
    "lstm_autoencoder_model.load_state_dict(torch.load('lstm_autoencoder_model.pt',map_location=device))\n",
    "lstm_autoencoder_model.eval()\n",
    "print('model loaded')"
   ]
  },
  {
   "cell_type": "code",
   "execution_count": null,
   "metadata": {
    "colab": {
     "base_uri": "https://localhost:8080/"
    },
    "id": "ImG7povGixmV",
    "outputId": "0b9ad417-b1fe-4af7-86d4-51106ba7ac3a",
    "tags": []
   },
   "outputs": [
    {
     "data": {
      "text/plain": [
       "LSTM_Autoencoder(\n",
       "  (lstm_encoder): LSTM(14, 4, batch_first=True)\n",
       "  (fc_encoder): Linear(in_features=4, out_features=2, bias=True)\n",
       "  (fc_decoder): Linear(in_features=2, out_features=4, bias=True)\n",
       "  (lstm_decoder): LSTM(4, 14, batch_first=True)\n",
       ")"
      ]
     },
     "execution_count": 28,
     "metadata": {},
     "output_type": "execute_result"
    }
   ],
   "source": [
    "lstm_autoencoder_model"
   ]
  },
  {
   "cell_type": "code",
   "execution_count": null,
   "metadata": {
    "colab": {
     "base_uri": "https://localhost:8080/"
    },
    "id": "Yiimu7hIixmV",
    "outputId": "ac28ac34-0db4-409b-d642-78e108eef8e0",
    "tags": []
   },
   "outputs": [
    {
     "name": "stdout",
     "output_type": "stream",
     "text": [
      "input shape: torch.Size([512, 10, 14])\n"
     ]
    },
    {
     "data": {
      "text/plain": [
       "torch.Size([512, 10, 2])"
      ]
     },
     "execution_count": 29,
     "metadata": {},
     "output_type": "execute_result"
    }
   ],
   "source": [
    "# sample inference to get the latent state only\n",
    "\n",
    "print(f'input shape: {x_batch.shape}')\n",
    "latent, _ = lstm_autoencoder_model.lstm_encoder(x_batch)\n",
    "latent = lstm_autoencoder_model.fc_encoder(latent)\n",
    "latent.shape # reduce 14 to 1 feature"
   ]
  },
  {
   "cell_type": "markdown",
   "metadata": {
    "id": "GOHfHQL_8CBs",
    "jp-MarkdownHeadingCollapsed": true,
    "tags": []
   },
   "source": [
    "# RNN - train"
   ]
  },
  {
   "cell_type": "code",
   "execution_count": null,
   "metadata": {
    "id": "gWQNH3FDixmV",
    "tags": []
   },
   "outputs": [],
   "source": [
    "input_size = 2\n",
    "hidden_size=1\n",
    "num_stacked_layers=1\n",
    "lr=0.001\n",
    "epochs = 10"
   ]
  },
  {
   "cell_type": "code",
   "execution_count": null,
   "metadata": {
    "colab": {
     "base_uri": "https://localhost:8080/"
    },
    "id": "g8-mF1OCOLnB",
    "outputId": "8fe5d0c8-62c3-49e0-eae5-f39a48ef1506",
    "tags": []
   },
   "outputs": [
    {
     "name": "stdout",
     "output_type": "stream",
     "text": [
      "epoch 0\n",
      "model epoch 0 saved as rnn.pt\n",
      "Epoch 1/10, train loss: 0.1185, val loss: 0.0486, time_taken: 4.3\n",
      "epoch 1\n",
      "model epoch 1 saved as rnn.pt\n",
      "Epoch 2/10, train loss: 0.0510, val loss: 0.0222, time_taken: 3.7\n",
      "epoch 2\n",
      "model epoch 2 saved as rnn.pt\n",
      "Epoch 3/10, train loss: 0.0227, val loss: 0.0106, time_taken: 4.6\n",
      "epoch 3\n",
      "model epoch 3 saved as rnn.pt\n",
      "Epoch 4/10, train loss: 0.0136, val loss: 0.0095, time_taken: 3.6\n",
      "epoch 4\n",
      "model epoch 4 saved as rnn.pt\n",
      "Epoch 5/10, train loss: 0.0118, val loss: 0.0091, time_taken: 3.7\n",
      "epoch 5\n",
      "model epoch 5 saved as rnn.pt\n",
      "Epoch 6/10, train loss: 0.0110, val loss: 0.0088, time_taken: 4.3\n",
      "epoch 6\n",
      "model epoch 6 saved as rnn.pt\n",
      "Epoch 7/10, train loss: 0.0104, val loss: 0.0087, time_taken: 4.2\n",
      "epoch 7\n",
      "model epoch 7 saved as rnn.pt\n",
      "Epoch 8/10, train loss: 0.0100, val loss: 0.0086, time_taken: 3.6\n",
      "epoch 8\n",
      "model epoch 8 saved as rnn.pt\n",
      "Epoch 9/10, train loss: 0.0097, val loss: 0.0086, time_taken: 3.9\n",
      "epoch 9\n",
      "model epoch 9 saved as rnn.pt\n",
      "Epoch 10/10, train loss: 0.0095, val loss: 0.0086, time_taken: 4.5\n"
     ]
    }
   ],
   "source": [
    "# Train the model\n",
    "\n",
    "from torch.optim.lr_scheduler import ReduceLROnPlateau\n",
    "\n",
    "criterion = nn.MSELoss()\n",
    "model = RNN(\n",
    "    input_size=input_size,\n",
    "    hidden_size=hidden_size,\n",
    "    num_stacked_layers=num_stacked_layers\n",
    ").to(device)\n",
    "optimizer = torch.optim.Adam(model.parameters(), lr=lr)\n",
    "scheduler = ReduceLROnPlateau(optimizer, 'min', factor=scheduler_factor, patience=scheduler_patience)\n",
    "\n",
    "epochs = epochs\n",
    "early_stop_count = 0\n",
    "min_val_loss = float('inf')\n",
    "\n",
    "train_losses=[]\n",
    "val_losses=[]\n",
    "\n",
    "for epoch in range(epochs):\n",
    "    epoch_start_time = time.time()\n",
    "    print(f'epoch {epoch}')\n",
    "    model.train()\n",
    "\n",
    "    train_running_loss = []\n",
    "    for batch in train_loader:\n",
    "        x_batch, y_batch = batch\n",
    "        x_batch, y_batch = x_batch.to(device), y_batch.to(device)\n",
    "\n",
    "        # Encode input data using the autoencoder\n",
    "        with torch.no_grad():\n",
    "            latent, _ = lstm_autoencoder_model.lstm_encoder(x_batch)\n",
    "            latent = lstm_autoencoder_model.fc_encoder(latent)\n",
    "\n",
    "        optimizer.zero_grad()\n",
    "        outputs = model(latent)\n",
    "        loss = criterion(outputs, y_batch)\n",
    "        train_running_loss.append(loss.item())\n",
    "        loss.backward()\n",
    "        optimizer.step()\n",
    "\n",
    "    train_loss = np.mean(train_running_loss)\n",
    "    train_losses.append(train_loss)\n",
    "\n",
    "    # Validation\n",
    "    model.eval()\n",
    "    val_running_loss = []\n",
    "    with torch.no_grad():\n",
    "        for batch in val_loader:\n",
    "            x_batch, y_batch = batch\n",
    "            x_batch, y_batch = x_batch.to(device), y_batch.to(device)\n",
    "\n",
    "            # Encode input data using the autoencoder\n",
    "            latent, _ = lstm_autoencoder_model.lstm_encoder(x_batch)\n",
    "            latent = lstm_autoencoder_model.fc_encoder(latent)\n",
    "\n",
    "            outputs = model(latent)\n",
    "            loss = criterion(outputs, y_batch)\n",
    "            val_running_loss.append(loss.item())\n",
    "\n",
    "    val_loss = np.mean(val_running_loss)\n",
    "    val_losses.append(val_loss)\n",
    "\n",
    "    scheduler.step(val_loss)\n",
    "\n",
    "    if val_loss < min_val_loss:\n",
    "        min_val_loss = val_loss\n",
    "        torch.save(model.state_dict(), 'rnn.pt')\n",
    "        print(f'model epoch {epoch} saved as rnn.pt')\n",
    "        early_stop_count = 0\n",
    "    else:\n",
    "        early_stop_count += 1\n",
    "\n",
    "    if early_stop_count >= early_stopping_limit:\n",
    "        print(\"Early stopping!\")\n",
    "        break\n",
    "\n",
    "    time_taken = round(time.time()-epoch_start_time,1)\n",
    "    print(f\"Epoch {epoch + 1}/{epochs}, train loss: {train_loss:.4f}, val loss: {val_loss:.4f}, time_taken: {time_taken}\")"
   ]
  },
  {
   "cell_type": "code",
   "execution_count": null,
   "metadata": {
    "colab": {
     "base_uri": "https://localhost:8080/",
     "height": 430
    },
    "id": "BA7h5YcN8CBt",
    "outputId": "e5ebf9f7-b79b-43c5-d959-bd0868a637db",
    "tags": []
   },
   "outputs": [
    {
     "data": {
      "image/png": "[encoded data removed]",
      "text/plain": [
       "<Figure size 640x480 with 1 Axes>"
      ]
     },
     "metadata": {},
     "output_type": "display_data"
    }
   ],
   "source": [
    "# plot train val loss curves\n",
    "\n",
    "import matplotlib.pyplot as plt\n",
    "\n",
    "plt.plot(train_losses,label='train loss')\n",
    "plt.plot(val_losses,label='val loss')\n",
    "plt.legend()\n",
    "plt.show()"
   ]
  },
  {
   "cell_type": "markdown",
   "metadata": {
    "id": "uCD6FbEm0PI2",
    "jp-MarkdownHeadingCollapsed": true,
    "tags": []
   },
   "source": [
    "# LSTM - train"
   ]
  },
  {
   "cell_type": "code",
   "execution_count": null,
   "metadata": {
    "colab": {
     "base_uri": "https://localhost:8080/"
    },
    "id": "hW4f2UKem8sr",
    "outputId": "8ca61f1e-1e8e-4eee-8e1b-812f66f074e6"
   },
   "outputs": [
    {
     "name": "stdout",
     "output_type": "stream",
     "text": [
      "epoch 0\n",
      "model epoch 0 saved as lstm.pt\n",
      "Epoch 1/10, train loss: 0.0534, val loss: 0.0301, time_taken: 8.8\n",
      "epoch 1\n",
      "model epoch 1 saved as lstm.pt\n",
      "Epoch 2/10, train loss: 0.0273, val loss: 0.0119, time_taken: 3.7\n",
      "epoch 2\n",
      "model epoch 2 saved as lstm.pt\n",
      "Epoch 3/10, train loss: 0.0112, val loss: 0.0085, time_taken: 4.8\n",
      "epoch 3\n",
      "model epoch 3 saved as lstm.pt\n",
      "Epoch 4/10, train loss: 0.0094, val loss: 0.0085, time_taken: 3.5\n",
      "epoch 4\n",
      "Epoch 5/10, train loss: 0.0092, val loss: 0.0086, time_taken: 3.8\n",
      "epoch 5\n",
      "Epoch 6/10, train loss: 0.0092, val loss: 0.0087, time_taken: 4.9\n",
      "epoch 6\n",
      "Epoch 7/10, train loss: 0.0092, val loss: 0.0088, time_taken: 7.8\n",
      "epoch 7\n",
      "Epoch 8/10, train loss: 0.0092, val loss: 0.0089, time_taken: 5.1\n",
      "epoch 8\n",
      "model epoch 8 saved as lstm.pt\n",
      "Epoch 9/10, train loss: 0.0090, val loss: 0.0083, time_taken: 4.4\n",
      "epoch 9\n",
      "model epoch 9 saved as lstm.pt\n",
      "Epoch 10/10, train loss: 0.0089, val loss: 0.0083, time_taken: 4.7\n"
     ]
    }
   ],
   "source": [
    "# Train the model\n",
    "\n",
    "from torch.optim.lr_scheduler import ReduceLROnPlateau\n",
    "\n",
    "criterion = nn.MSELoss()\n",
    "model = LSTM(\n",
    "    input_size=input_size,\n",
    "    hidden_size=hidden_size,\n",
    "    num_stacked_layers=num_stacked_layers\n",
    ").to(device)\n",
    "optimizer = torch.optim.Adam(model.parameters(), lr=lr)\n",
    "scheduler = ReduceLROnPlateau(optimizer, 'min', factor=scheduler_factor, patience=scheduler_patience)\n",
    "\n",
    "epochs = epochs\n",
    "early_stop_count = 0\n",
    "min_val_loss = float('inf')\n",
    "\n",
    "train_losses=[]\n",
    "val_losses=[]\n",
    "\n",
    "for epoch in range(epochs):\n",
    "    epoch_start_time = time.time()\n",
    "    print(f'epoch {epoch}')\n",
    "    model.train()\n",
    "\n",
    "    train_running_loss = []\n",
    "    for batch in train_loader:\n",
    "        x_batch, y_batch = batch\n",
    "        x_batch, y_batch = x_batch.to(device), y_batch.to(device)\n",
    "\n",
    "        # Encode input data using the autoencoder\n",
    "        with torch.no_grad():\n",
    "            latent, _ = lstm_autoencoder_model.lstm_encoder(x_batch)\n",
    "            latent = lstm_autoencoder_model.fc_encoder(latent)\n",
    "\n",
    "        optimizer.zero_grad()\n",
    "        outputs = model(latent)\n",
    "        loss = criterion(outputs, y_batch)\n",
    "        train_running_loss.append(loss.item())\n",
    "        loss.backward()\n",
    "        optimizer.step()\n",
    "\n",
    "    train_loss = np.mean(train_running_loss)\n",
    "    train_losses.append(train_loss)\n",
    "\n",
    "    # Validation\n",
    "    model.eval()\n",
    "    val_running_loss = []\n",
    "    with torch.no_grad():\n",
    "        for batch in val_loader:\n",
    "            x_batch, y_batch = batch\n",
    "            x_batch, y_batch = x_batch.to(device), y_batch.to(device)\n",
    "\n",
    "            # Encode input data using the autoencoder\n",
    "            latent, _ = lstm_autoencoder_model.lstm_encoder(x_batch)\n",
    "            latent = lstm_autoencoder_model.fc_encoder(latent)\n",
    "\n",
    "            outputs = model(latent)\n",
    "            loss = criterion(outputs, y_batch)\n",
    "            val_running_loss.append(loss.item())\n",
    "\n",
    "    val_loss = np.mean(val_running_loss)\n",
    "    val_losses.append(val_loss)\n",
    "\n",
    "    scheduler.step(val_loss)\n",
    "\n",
    "    if val_loss < min_val_loss:\n",
    "        min_val_loss = val_loss\n",
    "        torch.save(model.state_dict(), 'lstm.pt')\n",
    "        print(f'model epoch {epoch} saved as lstm.pt')\n",
    "        early_stop_count = 0\n",
    "    else:\n",
    "        early_stop_count += 1\n",
    "\n",
    "    if early_stop_count >= early_stopping_limit:\n",
    "        print(\"Early stopping!\")\n",
    "        break\n",
    "\n",
    "    time_taken = round(time.time()-epoch_start_time,1)\n",
    "    print(f\"Epoch {epoch + 1}/{epochs}, train loss: {train_loss:.4f}, val loss: {val_loss:.4f}, time_taken: {time_taken}\")"
   ]
  },
  {
   "cell_type": "code",
   "execution_count": null,
   "metadata": {
    "colab": {
     "base_uri": "https://localhost:8080/",
     "height": 430
    },
    "id": "2lqqAWb31ync",
    "outputId": "392635c7-69e9-443d-bd0f-810f2a84e234"
   },
   "outputs": [
    {
     "data": {
      "image/png": "[encoded data removed]",
      "text/plain": [
       "<Figure size 640x480 with 1 Axes>"
      ]
     },
     "metadata": {},
     "output_type": "display_data"
    }
   ],
   "source": [
    "# plot train val loss curves\n",
    "\n",
    "import matplotlib.pyplot as plt\n",
    "\n",
    "plt.plot(train_losses,label='train loss')\n",
    "plt.plot(val_losses,label='val loss')\n",
    "plt.legend()\n",
    "plt.show()"
   ]
  },
  {
   "cell_type": "markdown",
   "metadata": {
    "id": "Mt9omLCf0Q9f",
    "jp-MarkdownHeadingCollapsed": true,
    "tags": []
   },
   "source": [
    "# GRU - train"
   ]
  },
  {
   "cell_type": "code",
   "execution_count": null,
   "metadata": {
    "colab": {
     "base_uri": "https://localhost:8080/"
    },
    "id": "egU1RMeB0Q9f",
    "outputId": "9893acd0-a269-45b7-db0d-23bb44544ae3",
    "tags": []
   },
   "outputs": [
    {
     "name": "stdout",
     "output_type": "stream",
     "text": [
      "epoch 0\n",
      "model epoch 0 saved as gru.pt\n",
      "Epoch 1/10, train loss: 0.1089, val loss: 0.0630, time_taken: 4.3\n",
      "epoch 1\n",
      "model epoch 1 saved as gru.pt\n",
      "Epoch 2/10, train loss: 0.0786, val loss: 0.0533, time_taken: 4.3\n",
      "epoch 2\n",
      "model epoch 2 saved as gru.pt\n",
      "Epoch 3/10, train loss: 0.0577, val loss: 0.0310, time_taken: 3.9\n",
      "epoch 3\n",
      "model epoch 3 saved as gru.pt\n",
      "Epoch 4/10, train loss: 0.0284, val loss: 0.0153, time_taken: 8.3\n",
      "epoch 4\n",
      "model epoch 4 saved as gru.pt\n",
      "Epoch 5/10, train loss: 0.0169, val loss: 0.0132, time_taken: 7.9\n",
      "epoch 5\n",
      "model epoch 5 saved as gru.pt\n",
      "Epoch 6/10, train loss: 0.0147, val loss: 0.0122, time_taken: 7.1\n",
      "epoch 6\n",
      "model epoch 6 saved as gru.pt\n",
      "Epoch 7/10, train loss: 0.0133, val loss: 0.0112, time_taken: 5.7\n",
      "epoch 7\n",
      "model epoch 7 saved as gru.pt\n",
      "Epoch 8/10, train loss: 0.0121, val loss: 0.0105, time_taken: 8.3\n",
      "epoch 8\n",
      "model epoch 8 saved as gru.pt\n",
      "Epoch 9/10, train loss: 0.0112, val loss: 0.0098, time_taken: 5.5\n",
      "epoch 9\n",
      "model epoch 9 saved as gru.pt\n",
      "Epoch 10/10, train loss: 0.0104, val loss: 0.0094, time_taken: 8.6\n"
     ]
    }
   ],
   "source": [
    "# Train the model\n",
    "\n",
    "from torch.optim.lr_scheduler import ReduceLROnPlateau\n",
    "\n",
    "criterion = nn.MSELoss()\n",
    "model = GRU(\n",
    "    input_size=input_size,\n",
    "    hidden_size=hidden_size,\n",
    "    num_stacked_layers=num_stacked_layers\n",
    ").to(device)\n",
    "optimizer = torch.optim.Adam(model.parameters(), lr=lr)\n",
    "scheduler = ReduceLROnPlateau(optimizer, 'min', factor=scheduler_factor, patience=scheduler_patience)\n",
    "\n",
    "epochs = epochs\n",
    "early_stop_count = 0\n",
    "min_val_loss = float('inf')\n",
    "\n",
    "train_losses=[]\n",
    "val_losses=[]\n",
    "\n",
    "for epoch in range(epochs):\n",
    "    epoch_start_time = time.time()\n",
    "    print(f'epoch {epoch}')\n",
    "    model.train()\n",
    "\n",
    "    train_running_loss = []\n",
    "    for batch in train_loader:\n",
    "        x_batch, y_batch = batch\n",
    "        x_batch, y_batch = x_batch.to(device), y_batch.to(device)\n",
    "\n",
    "        # Encode input data using the autoencoder\n",
    "        with torch.no_grad():\n",
    "            latent, _ = lstm_autoencoder_model.lstm_encoder(x_batch)\n",
    "            latent = lstm_autoencoder_model.fc_encoder(latent)\n",
    "\n",
    "        optimizer.zero_grad()\n",
    "        outputs = model(latent)\n",
    "        loss = criterion(outputs, y_batch)\n",
    "        train_running_loss.append(loss.item())\n",
    "        loss.backward()\n",
    "        optimizer.step()\n",
    "\n",
    "    train_loss = np.mean(train_running_loss)\n",
    "    train_losses.append(train_loss)\n",
    "\n",
    "    # Validation\n",
    "    model.eval()\n",
    "    val_running_loss = []\n",
    "    with torch.no_grad():\n",
    "        for batch in val_loader:\n",
    "            x_batch, y_batch = batch\n",
    "            x_batch, y_batch = x_batch.to(device), y_batch.to(device)\n",
    "\n",
    "            # Encode input data using the autoencoder\n",
    "            latent, _ = lstm_autoencoder_model.lstm_encoder(x_batch)\n",
    "            latent = lstm_autoencoder_model.fc_encoder(latent)\n",
    "\n",
    "            outputs = model(latent)\n",
    "            loss = criterion(outputs, y_batch)\n",
    "            val_running_loss.append(loss.item())\n",
    "\n",
    "    val_loss = np.mean(val_running_loss)\n",
    "    val_losses.append(val_loss)\n",
    "\n",
    "    scheduler.step(val_loss)\n",
    "\n",
    "    if val_loss < min_val_loss:\n",
    "        min_val_loss = val_loss\n",
    "        torch.save(model.state_dict(), 'gru.pt')\n",
    "        print(f'model epoch {epoch} saved as gru.pt')\n",
    "        early_stop_count = 0\n",
    "    else:\n",
    "        early_stop_count += 1\n",
    "\n",
    "    if early_stop_count >= early_stopping_limit:\n",
    "        print(\"Early stopping!\")\n",
    "        break\n",
    "\n",
    "    time_taken = round(time.time()-epoch_start_time,1)\n",
    "    print(f\"Epoch {epoch + 1}/{epochs}, train loss: {train_loss:.4f}, val loss: {val_loss:.4f}, time_taken: {time_taken}\")"
   ]
  },
  {
   "cell_type": "code",
   "execution_count": null,
   "metadata": {
    "colab": {
     "base_uri": "https://localhost:8080/",
     "height": 430
    },
    "id": "4R1N8MN713R0",
    "outputId": "6193dcc6-637a-4a77-bbd8-832ae41d4629"
   },
   "outputs": [
    {
     "data": {
      "image/png": "[encoded data removed]",
      "text/plain": [
       "<Figure size 640x480 with 1 Axes>"
      ]
     },
     "metadata": {},
     "output_type": "display_data"
    }
   ],
   "source": [
    "# plot train val loss curves\n",
    "\n",
    "import matplotlib.pyplot as plt\n",
    "\n",
    "plt.plot(train_losses,label='train loss')\n",
    "plt.plot(val_losses,label='val loss')\n",
    "plt.legend()\n",
    "plt.show()"
   ]
  },
  {
   "cell_type": "markdown",
   "metadata": {
    "id": "wqoaBxLvjYxZ",
    "tags": []
   },
   "source": [
    "# finetuning - evaluate"
   ]
  },
  {
   "cell_type": "code",
   "execution_count": null,
   "metadata": {
    "colab": {
     "base_uri": "https://localhost:8080/",
     "height": 482
    },
    "id": "h_QrfG23jYxZ",
    "outputId": "fa08887d-89f7-4227-91cc-735c20cadf43",
    "tags": []
   },
   "outputs": [
    {
     "name": "stdout",
     "output_type": "stream",
     "text": [
      "model loaded\n",
      "model loaded\n",
      "0.009703 0.07853\n"
     ]
    },
    {
     "data": {
      "image/png": "[encoded data removed]",
      "text/plain": [
       "<Figure size 640x480 with 1 Axes>"
      ]
     },
     "metadata": {},
     "output_type": "display_data"
    }
   ],
   "source": [
    "# load best pretraining model\n",
    "best_model_path = 'rnn.pt'\n",
    "rnn_model = RNN(\n",
    "    input_size=2,\n",
    "    hidden_size=1,\n",
    "    num_stacked_layers=1\n",
    ").to(device)\n",
    "rnn_model.load_state_dict(torch.load(best_model_path,map_location=device))\n",
    "rnn_model.eval()\n",
    "print('model loaded')\n",
    "\n",
    "lstm_autoencoder_model = LSTM_Autoencoder(\n",
    "    input_size = 14, #features\n",
    "    hidden_size = 4,\n",
    "    num_stacked_layers = 1\n",
    ").to(device)\n",
    "lstm_autoencoder_model.load_state_dict(torch.load('lstm_autoencoder_model.pt',map_location=device))\n",
    "lstm_autoencoder_model.eval()\n",
    "print('model loaded')\n",
    "\n",
    "# Encode input data using the autoencoder\n",
    "latent, _ = lstm_autoencoder_model.lstm_encoder(X_test.to(device))\n",
    "latent = lstm_autoencoder_model.fc_encoder(latent)\n",
    "\n",
    "predictions = rnn_model(latent)\n",
    "mse_loss = nn.MSELoss()(predictions.cpu().detach(),y_test.cpu().detach())\n",
    "mae_loss = nn.L1Loss()(predictions.cpu().detach(),y_test.cpu().detach())\n",
    "mse_loss = round(mse_loss.item(),6)\n",
    "mae_loss = round(mae_loss.item(),6)\n",
    "print(mse_loss,mae_loss)\n",
    "\n",
    "# plot forecasting prediction\n",
    "y = y_test.cpu().detach()\n",
    "pred = predictions.cpu().detach()\n",
    "\n",
    "plt.plot(y[-100:],label='original')\n",
    "plt.plot(pred[-100:],label='rnn')\n",
    "plt.legend()\n",
    "plt.show()"
   ]
  },
  {
   "cell_type": "code",
   "execution_count": null,
   "metadata": {
    "colab": {
     "base_uri": "https://localhost:8080/",
     "height": 482
    },
    "id": "xk7isfnN1A4B",
    "outputId": "03f8a637-3afd-4274-8fab-469993955f54"
   },
   "outputs": [
    {
     "name": "stdout",
     "output_type": "stream",
     "text": [
      "model loaded\n",
      "model loaded\n",
      "0.009764 0.077963\n"
     ]
    },
    {
     "data": {
      "image/png": "[encoded data removed]",
      "text/plain": [
       "<Figure size 640x480 with 1 Axes>"
      ]
     },
     "metadata": {},
     "output_type": "display_data"
    }
   ],
   "source": [
    "# load best pretraining model\n",
    "best_model_path = 'lstm.pt'\n",
    "lstm_model = LSTM(\n",
    "    input_size=2,\n",
    "    hidden_size=1,\n",
    "    num_stacked_layers=1\n",
    ").to(device)\n",
    "lstm_model.load_state_dict(torch.load(best_model_path,map_location=device))\n",
    "lstm_model.eval()\n",
    "print('model loaded')\n",
    "\n",
    "lstm_autoencoder_model = LSTM_Autoencoder(\n",
    "    input_size = 14, #features\n",
    "    hidden_size = 4,\n",
    "    num_stacked_layers = 1\n",
    ").to(device)\n",
    "lstm_autoencoder_model.load_state_dict(torch.load('lstm_autoencoder_model.pt',map_location=device))\n",
    "lstm_autoencoder_model.eval()\n",
    "print('model loaded')\n",
    "\n",
    "# Encode input data using the autoencoder\n",
    "latent, _ = lstm_autoencoder_model.lstm_encoder(X_test.to(device))\n",
    "latent = lstm_autoencoder_model.fc_encoder(latent)\n",
    "\n",
    "predictions = lstm_model(latent)\n",
    "mse_loss = nn.MSELoss()(predictions.cpu().detach(),y_test.cpu().detach())\n",
    "mae_loss = nn.L1Loss()(predictions.cpu().detach(),y_test.cpu().detach())\n",
    "mse_loss = round(mse_loss.item(),6)\n",
    "mae_loss = round(mae_loss.item(),6)\n",
    "print(mse_loss,mae_loss)\n",
    "\n",
    "# plot forecasting prediction\n",
    "y = y_test.cpu().detach()\n",
    "pred = predictions.cpu().detach()\n",
    "\n",
    "plt.plot(y[-100:],label='original')\n",
    "plt.plot(pred[-100:],label='rnn')\n",
    "plt.legend()\n",
    "plt.show()"
   ]
  },
  {
   "cell_type": "code",
   "execution_count": null,
   "metadata": {
    "colab": {
     "base_uri": "https://localhost:8080/",
     "height": 482
    },
    "id": "dQ_VmNPJ2MWh",
    "outputId": "1545aafc-e005-4d3e-b2f0-7d6bfbde6227"
   },
   "outputs": [
    {
     "name": "stdout",
     "output_type": "stream",
     "text": [
      "model loaded\n",
      "model loaded\n",
      "0.010535 0.081512\n"
     ]
    },
    {
     "data": {
      "image/png": "[encoded data removed]",
      "text/plain": [
       "<Figure size 640x480 with 1 Axes>"
      ]
     },
     "metadata": {},
     "output_type": "display_data"
    }
   ],
   "source": [
    "# load best pretraining model\n",
    "best_model_path = 'gru.pt'\n",
    "gru_model = GRU(\n",
    "    input_size=2,\n",
    "    hidden_size=1,\n",
    "    num_stacked_layers=1\n",
    ").to(device)\n",
    "gru_model.load_state_dict(torch.load(best_model_path,map_location=device))\n",
    "gru_model.eval()\n",
    "print('model loaded')\n",
    "\n",
    "lstm_autoencoder_model = LSTM_Autoencoder(\n",
    "    input_size = 14, #features\n",
    "    hidden_size = 4,\n",
    "    num_stacked_layers = 1\n",
    ").to(device)\n",
    "lstm_autoencoder_model.load_state_dict(torch.load('lstm_autoencoder_model.pt',map_location=device))\n",
    "lstm_autoencoder_model.eval()\n",
    "print('model loaded')\n",
    "\n",
    "# Encode input data using the autoencoder\n",
    "latent, _ = lstm_autoencoder_model.lstm_encoder(X_test.to(device))\n",
    "latent = lstm_autoencoder_model.fc_encoder(latent)\n",
    "\n",
    "predictions = gru_model(latent)\n",
    "mse_loss = nn.MSELoss()(predictions.cpu().detach(),y_test.cpu().detach())\n",
    "mae_loss = nn.L1Loss()(predictions.cpu().detach(),y_test.cpu().detach())\n",
    "mse_loss = round(mse_loss.item(),6)\n",
    "mae_loss = round(mae_loss.item(),6)\n",
    "print(mse_loss,mae_loss)\n",
    "\n",
    "# plot forecasting prediction\n",
    "y = y_test.cpu().detach()\n",
    "pred = predictions.cpu().detach()\n",
    "\n",
    "plt.plot(y[-100:],label='original')\n",
    "plt.plot(pred[-100:],label='gru')\n",
    "plt.legend()\n",
    "plt.show()"
   ]
  },
  {
   "cell_type": "code",
   "execution_count": null,
   "metadata": {
    "id": "w6xNaX5m2OjI"
   },
   "outputs": [],
   "source": []
  },
  {
   "cell_type": "code",
   "execution_count": null,
   "metadata": {},
   "outputs": [],
   "source": []
  },
  {
   "cell_type": "code",
   "execution_count": null,
   "metadata": {},
   "outputs": [],
   "source": []
  },
  {
   "cell_type": "code",
   "execution_count": 18,
   "metadata": {
    "tags": []
   },
   "outputs": [
    {
     "name": "stdout",
     "output_type": "stream",
     "text": [
      "0.009703 0.07853\n",
      "0.009764 0.077963\n",
      "0.010535 0.081512\n"
     ]
    },
    {
     "data": {
      "image/png": "[encoded data removed]",
      "text/plain": [
       "<Figure size 1000x1000 with 3 Axes>"
      ]
     },
     "metadata": {},
     "output_type": "display_data"
    }
   ],
   "source": [
    "fig,ax=plt.subplots(3,1,figsize=(10,10))\n",
    "\n",
    "\n",
    "# load best pretraining model\n",
    "best_model_path = 'expt3/rnn.pt'\n",
    "rnn_model = RNN(\n",
    "    input_size=2,\n",
    "    hidden_size=1,\n",
    "    num_stacked_layers=1\n",
    ").to(device)\n",
    "rnn_model.load_state_dict(torch.load(best_model_path,map_location=device))\n",
    "rnn_model.eval()\n",
    "# print('model loaded')\n",
    "\n",
    "lstm_autoencoder_model = LSTM_Autoencoder(\n",
    "    input_size = 14, #features\n",
    "    hidden_size = 4,\n",
    "    num_stacked_layers = 1\n",
    ").to(device)\n",
    "lstm_autoencoder_model.load_state_dict(torch.load('expt3/lstm_autoencoder_model.pt',map_location=device))\n",
    "lstm_autoencoder_model.eval()\n",
    "# print('model loaded')\n",
    "\n",
    "# Encode input data using the autoencoder\n",
    "latent, _ = lstm_autoencoder_model.lstm_encoder(X_test.to(device))\n",
    "latent = lstm_autoencoder_model.fc_encoder(latent)\n",
    "\n",
    "predictions = rnn_model(latent)\n",
    "mse_loss = nn.MSELoss()(predictions.cpu().detach(),y_test.cpu().detach())\n",
    "mae_loss = nn.L1Loss()(predictions.cpu().detach(),y_test.cpu().detach())\n",
    "mse_loss = round(mse_loss.item(),6)\n",
    "mae_loss = round(mae_loss.item(),6)\n",
    "print(mse_loss,mae_loss)\n",
    "\n",
    "# plot forecasting prediction\n",
    "y = y_test.cpu().detach()\n",
    "pred = predictions.cpu().detach()\n",
    "\n",
    "plt.subplot(3,1,1)\n",
    "plt.plot(y[-100:],label='Original Test data')\n",
    "plt.plot(pred[-100:],label='RNN prediction')\n",
    "plt.xlabel('Timesteps')\n",
    "plt.ylabel('Normalized Temp (deg C)')\n",
    "plt.legend()\n",
    "\n",
    "\n",
    "\n",
    "\n",
    "# load best pretraining model\n",
    "best_model_path = 'expt3/lstm.pt'\n",
    "lstm_model = LSTM(\n",
    "    input_size=2,\n",
    "    hidden_size=1,\n",
    "    num_stacked_layers=1\n",
    ").to(device)\n",
    "lstm_model.load_state_dict(torch.load(best_model_path,map_location=device))\n",
    "lstm_model.eval()\n",
    "# print('model loaded')\n",
    "\n",
    "lstm_autoencoder_model = LSTM_Autoencoder(\n",
    "    input_size = 14, #features\n",
    "    hidden_size = 4,\n",
    "    num_stacked_layers = 1\n",
    ").to(device)\n",
    "lstm_autoencoder_model.load_state_dict(torch.load('expt3/lstm_autoencoder_model.pt',map_location=device))\n",
    "lstm_autoencoder_model.eval()\n",
    "# print('model loaded')\n",
    "\n",
    "# Encode input data using the autoencoder\n",
    "latent, _ = lstm_autoencoder_model.lstm_encoder(X_test.to(device))\n",
    "latent = lstm_autoencoder_model.fc_encoder(latent)\n",
    "\n",
    "predictions = lstm_model(latent)\n",
    "mse_loss = nn.MSELoss()(predictions.cpu().detach(),y_test.cpu().detach())\n",
    "mae_loss = nn.L1Loss()(predictions.cpu().detach(),y_test.cpu().detach())\n",
    "mse_loss = round(mse_loss.item(),6)\n",
    "mae_loss = round(mae_loss.item(),6)\n",
    "print(mse_loss,mae_loss)\n",
    "\n",
    "# plot forecasting prediction\n",
    "y = y_test.cpu().detach()\n",
    "pred = predictions.cpu().detach()\n",
    "\n",
    "plt.subplot(3,1,2)\n",
    "plt.plot(y[-100:],label='Original Test data')\n",
    "plt.plot(pred[-100:],label='LSTM prediction')\n",
    "plt.xlabel('Timesteps')\n",
    "plt.ylabel('Normalized Temp (deg C)')\n",
    "plt.legend()\n",
    "\n",
    "\n",
    "\n",
    "\n",
    "# load best pretraining model\n",
    "best_model_path = 'expt3/gru.pt'\n",
    "gru_model = GRU(\n",
    "    input_size=2,\n",
    "    hidden_size=1,\n",
    "    num_stacked_layers=1\n",
    ").to(device)\n",
    "gru_model.load_state_dict(torch.load(best_model_path,map_location=device))\n",
    "gru_model.eval()\n",
    "# print('model loaded')\n",
    "\n",
    "lstm_autoencoder_model = LSTM_Autoencoder(\n",
    "    input_size = 14, #features\n",
    "    hidden_size = 4,\n",
    "    num_stacked_layers = 1\n",
    ").to(device)\n",
    "lstm_autoencoder_model.load_state_dict(torch.load('expt3/lstm_autoencoder_model.pt',map_location=device))\n",
    "lstm_autoencoder_model.eval()\n",
    "# print('model loaded')\n",
    "\n",
    "# Encode input data using the autoencoder\n",
    "latent, _ = lstm_autoencoder_model.lstm_encoder(X_test.to(device))\n",
    "latent = lstm_autoencoder_model.fc_encoder(latent)\n",
    "\n",
    "predictions = gru_model(latent)\n",
    "mse_loss = nn.MSELoss()(predictions.cpu().detach(),y_test.cpu().detach())\n",
    "mae_loss = nn.L1Loss()(predictions.cpu().detach(),y_test.cpu().detach())\n",
    "mse_loss = round(mse_loss.item(),6)\n",
    "mae_loss = round(mae_loss.item(),6)\n",
    "print(mse_loss,mae_loss)\n",
    "\n",
    "# plot forecasting prediction\n",
    "y = y_test.cpu().detach()\n",
    "pred = predictions.cpu().detach()\n",
    "\n",
    "plt.subplot(3,1,3)\n",
    "plt.plot(y[-100:],label='Original Test data')\n",
    "plt.plot(pred[-100:],label='GRU prediction')\n",
    "plt.xlabel('Timesteps')\n",
    "plt.ylabel('Normalized Temp (deg C)')\n",
    "plt.legend()\n",
    "\n",
    "plt.savefig('expt3.png')\n",
    "\n",
    "plt.show()"
   ]
  },
  {
   "cell_type": "code",
   "execution_count": null,
   "metadata": {},
   "outputs": [],
   "source": []
  }
 ],
 "metadata": {
  "accelerator": "GPU",
  "anaconda-cloud": {},
  "colab": {
   "collapsed_sections": [
    "evEN8fv8ixmT",
    "bYOKZMWeixmT",
    "rSHNEZaf8CBs",
    "E7AdthuRixmV",
    "GOHfHQL_8CBs",
    "uCD6FbEm0PI2",
    "Mt9omLCf0Q9f",
    "wqoaBxLvjYxZ"
   ],
   "gpuType": "T4",
   "provenance": []
  },
  "kernelspec": {
   "display_name": "dsa5204",
   "language": "python",
   "name": "dsa5204"
  },
  "language_info": {
   "codemirror_mode": {
    "name": "ipython",
    "version": 3
   },
   "file_extension": ".py",
   "mimetype": "text/x-python",
   "name": "python",
   "nbconvert_exporter": "python",
   "pygments_lexer": "ipython3",
   "version": "3.7.9"
  }
 },
 "nbformat": 4,
 "nbformat_minor": 4
}
